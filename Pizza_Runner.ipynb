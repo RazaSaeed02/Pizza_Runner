{
 "cells": [
  {
   "cell_type": "markdown",
   "id": "cacbe3d6",
   "metadata": {},
   "source": [
    "# Project: Pizza Runner"
   ]
  },
  {
   "cell_type": "markdown",
   "id": "90a106c7",
   "metadata": {},
   "source": [
    "## Problem Statement\n",
    "- Pizza Runner is in need of your assistance to help the restaurant grow. \n",
    "- The restaurant wants to use the data it has captured to get information about customer ordering habits, how much money the restaurant has made so far, and how efficient their delivery people are."
   ]
  },
  {
   "cell_type": "markdown",
   "id": "0b34c6d1",
   "metadata": {},
   "source": [
    "### Connect to SQL"
   ]
  },
  {
   "cell_type": "code",
   "execution_count": 63,
   "id": "f8a74ef6",
   "metadata": {},
   "outputs": [],
   "source": [
    "%%capture\n",
    "%load_ext sql\n",
    "%sql sqlite://"
   ]
  },
  {
   "cell_type": "markdown",
   "id": "2a477670",
   "metadata": {},
   "source": [
    "## Data Tables"
   ]
  },
  {
   "cell_type": "markdown",
   "id": "03b2fa84",
   "metadata": {},
   "source": [
    "### Customer Orders Table"
   ]
  },
  {
   "cell_type": "code",
   "execution_count": 64,
   "id": "b83a865b",
   "metadata": {},
   "outputs": [
    {
     "name": "stdout",
     "output_type": "stream",
     "text": [
      " * sqlite://\n",
      "(sqlite3.OperationalError) table customer_orders already exists\n",
      "[SQL: CREATE TABLE customer_orders (\n",
      "  \"order_id\" INTEGER,\n",
      "  \"customer_id\" INTEGER,\n",
      "  \"pizza_id\" INTEGER,\n",
      "  \"exclusions\" VARCHAR(4),\n",
      "  \"extras\" VARCHAR(4),\n",
      "  \"order_time\" TIMESTAMP\n",
      ");]\n",
      "(Background on this error at: https://sqlalche.me/e/14/e3q8)\n"
     ]
    }
   ],
   "source": [
    "%%sql\n",
    "CREATE TABLE customer_orders (\n",
    "  \"order_id\" INTEGER,\n",
    "  \"customer_id\" INTEGER,\n",
    "  \"pizza_id\" INTEGER,\n",
    "  \"exclusions\" VARCHAR(4),\n",
    "  \"extras\" VARCHAR(4),\n",
    "  \"order_time\" TIMESTAMP\n",
    ");\n",
    "\n",
    "INSERT INTO customer_orders\n",
    "  (\"order_id\", \"customer_id\", \"pizza_id\", \"exclusions\", \"extras\", \"order_time\")\n",
    "VALUES\n",
    "  ('1', '101', '1', '', '', '2020-01-01 18:05:02'),\n",
    "  ('2', '101', '1', '', '', '2020-01-01 19:00:52'),\n",
    "  ('3', '102', '1', '', '', '2020-01-02 23:51:23'),\n",
    "  ('3', '102', '2', '', NULL, '2020-01-02 23:51:23'),\n",
    "  ('4', '103', '1', '4', '', '2020-01-04 13:23:46'),\n",
    "  ('4', '103', '1', '4', '', '2020-01-04 13:23:46'),\n",
    "  ('4', '103', '2', '4', '', '2020-01-04 13:23:46'),\n",
    "  ('5', '104', '1', 'null', '1', '2020-01-08 21:00:29'),\n",
    "  ('6', '101', '2', 'null', 'null', '2020-01-08 21:03:13'),\n",
    "  ('7', '105', '2', 'null', '1', '2020-01-08 21:20:29'),\n",
    "  ('8', '102', '1', 'null', 'null', '2020-01-09 23:54:33'),\n",
    "  ('9', '103', '1', '4', '1, 5', '2020-01-10 11:22:59'),\n",
    "  ('10', '104', '1', 'null', 'null', '2020-01-11 18:34:49'),\n",
    "  ('10', '104', '1', '2, 6', '1, 4', '2020-01-11 18:34:49');"
   ]
  },
  {
   "cell_type": "code",
   "execution_count": 65,
   "id": "f4a3ceef",
   "metadata": {},
   "outputs": [
    {
     "name": "stdout",
     "output_type": "stream",
     "text": [
      " * sqlite://\n",
      "Done.\n"
     ]
    },
    {
     "data": {
      "text/html": [
       "<table>\n",
       "    <thead>\n",
       "        <tr>\n",
       "            <th>order_id</th>\n",
       "            <th>customer_id</th>\n",
       "            <th>pizza_id</th>\n",
       "            <th>exclusions</th>\n",
       "            <th>extras</th>\n",
       "            <th>order_time</th>\n",
       "        </tr>\n",
       "    </thead>\n",
       "    <tbody>\n",
       "        <tr>\n",
       "            <td>1</td>\n",
       "            <td>101</td>\n",
       "            <td>1</td>\n",
       "            <td></td>\n",
       "            <td></td>\n",
       "            <td>2020-01-01 18:05:02</td>\n",
       "        </tr>\n",
       "        <tr>\n",
       "            <td>2</td>\n",
       "            <td>101</td>\n",
       "            <td>1</td>\n",
       "            <td></td>\n",
       "            <td></td>\n",
       "            <td>2020-01-01 19:00:52</td>\n",
       "        </tr>\n",
       "        <tr>\n",
       "            <td>3</td>\n",
       "            <td>102</td>\n",
       "            <td>1</td>\n",
       "            <td></td>\n",
       "            <td></td>\n",
       "            <td>2020-01-02 23:51:23</td>\n",
       "        </tr>\n",
       "        <tr>\n",
       "            <td>3</td>\n",
       "            <td>102</td>\n",
       "            <td>2</td>\n",
       "            <td></td>\n",
       "            <td></td>\n",
       "            <td>2020-01-02 23:51:23</td>\n",
       "        </tr>\n",
       "        <tr>\n",
       "            <td>4</td>\n",
       "            <td>103</td>\n",
       "            <td>1</td>\n",
       "            <td>4</td>\n",
       "            <td></td>\n",
       "            <td>2020-01-04 13:23:46</td>\n",
       "        </tr>\n",
       "        <tr>\n",
       "            <td>4</td>\n",
       "            <td>103</td>\n",
       "            <td>1</td>\n",
       "            <td>4</td>\n",
       "            <td></td>\n",
       "            <td>2020-01-04 13:23:46</td>\n",
       "        </tr>\n",
       "        <tr>\n",
       "            <td>4</td>\n",
       "            <td>103</td>\n",
       "            <td>2</td>\n",
       "            <td>4</td>\n",
       "            <td></td>\n",
       "            <td>2020-01-04 13:23:46</td>\n",
       "        </tr>\n",
       "        <tr>\n",
       "            <td>5</td>\n",
       "            <td>104</td>\n",
       "            <td>1</td>\n",
       "            <td></td>\n",
       "            <td>1</td>\n",
       "            <td>2020-01-08 21:00:29</td>\n",
       "        </tr>\n",
       "        <tr>\n",
       "            <td>6</td>\n",
       "            <td>101</td>\n",
       "            <td>2</td>\n",
       "            <td></td>\n",
       "            <td></td>\n",
       "            <td>2020-01-08 21:03:13</td>\n",
       "        </tr>\n",
       "        <tr>\n",
       "            <td>7</td>\n",
       "            <td>105</td>\n",
       "            <td>2</td>\n",
       "            <td></td>\n",
       "            <td>1</td>\n",
       "            <td>2020-01-08 21:20:29</td>\n",
       "        </tr>\n",
       "        <tr>\n",
       "            <td>8</td>\n",
       "            <td>102</td>\n",
       "            <td>1</td>\n",
       "            <td></td>\n",
       "            <td></td>\n",
       "            <td>2020-01-09 23:54:33</td>\n",
       "        </tr>\n",
       "        <tr>\n",
       "            <td>9</td>\n",
       "            <td>103</td>\n",
       "            <td>1</td>\n",
       "            <td>4</td>\n",
       "            <td>1, 5</td>\n",
       "            <td>2020-01-10 11:22:59</td>\n",
       "        </tr>\n",
       "        <tr>\n",
       "            <td>10</td>\n",
       "            <td>104</td>\n",
       "            <td>1</td>\n",
       "            <td></td>\n",
       "            <td></td>\n",
       "            <td>2020-01-11 18:34:49</td>\n",
       "        </tr>\n",
       "        <tr>\n",
       "            <td>10</td>\n",
       "            <td>104</td>\n",
       "            <td>1</td>\n",
       "            <td>2, 6</td>\n",
       "            <td>1, 4</td>\n",
       "            <td>2020-01-11 18:34:49</td>\n",
       "        </tr>\n",
       "    </tbody>\n",
       "</table>"
      ],
      "text/plain": [
       "[(1, 101, 1, '', '', '2020-01-01 18:05:02'),\n",
       " (2, 101, 1, '', '', '2020-01-01 19:00:52'),\n",
       " (3, 102, 1, '', '', '2020-01-02 23:51:23'),\n",
       " (3, 102, 2, '', '', '2020-01-02 23:51:23'),\n",
       " (4, 103, 1, '4', '', '2020-01-04 13:23:46'),\n",
       " (4, 103, 1, '4', '', '2020-01-04 13:23:46'),\n",
       " (4, 103, 2, '4', '', '2020-01-04 13:23:46'),\n",
       " (5, 104, 1, '', '1', '2020-01-08 21:00:29'),\n",
       " (6, 101, 2, '', '', '2020-01-08 21:03:13'),\n",
       " (7, 105, 2, '', '1', '2020-01-08 21:20:29'),\n",
       " (8, 102, 1, '', '', '2020-01-09 23:54:33'),\n",
       " (9, 103, 1, '4', '1, 5', '2020-01-10 11:22:59'),\n",
       " (10, 104, 1, '', '', '2020-01-11 18:34:49'),\n",
       " (10, 104, 1, '2, 6', '1, 4', '2020-01-11 18:34:49')]"
      ]
     },
     "execution_count": 65,
     "metadata": {},
     "output_type": "execute_result"
    }
   ],
   "source": [
    "%%sql\n",
    "SELECT *\n",
    "FROM customer_orders"
   ]
  },
  {
   "cell_type": "markdown",
   "id": "cda69f1d",
   "metadata": {},
   "source": [
    "### Runners Table"
   ]
  },
  {
   "cell_type": "code",
   "execution_count": 66,
   "id": "fd1fec76",
   "metadata": {},
   "outputs": [
    {
     "name": "stdout",
     "output_type": "stream",
     "text": [
      " * sqlite://\n"
     ]
    },
    {
     "data": {
      "text/plain": [
       "'Connected: @None'"
      ]
     },
     "execution_count": 66,
     "metadata": {},
     "output_type": "execute_result"
    }
   ],
   "source": [
    "%%sql\n",
    "CREATE TABLE runners (\n",
    "  \"runner_id\" INTEGER,\n",
    "  \"registration_date\" DATE\n",
    ");\n",
    "\n",
    "INSERT INTO runners\n",
    "  (\"runner_id\", \"registration_date\")\n",
    "VALUES\n",
    "  (1, '2021-01-01'),\n",
    "  (2, '2021-01-03'),\n",
    "  (3, '2021-01-08'),\n",
    "  (4, '2021-01-15');"
   ]
  },
  {
   "cell_type": "code",
   "execution_count": 67,
   "id": "e8830b9a",
   "metadata": {},
   "outputs": [
    {
     "name": "stdout",
     "output_type": "stream",
     "text": [
      " * sqlite://\n",
      "Done.\n"
     ]
    },
    {
     "data": {
      "text/html": [
       "<table>\n",
       "    <thead>\n",
       "        <tr>\n",
       "            <th>runner_id</th>\n",
       "            <th>registration_date</th>\n",
       "        </tr>\n",
       "    </thead>\n",
       "    <tbody>\n",
       "        <tr>\n",
       "            <td>1</td>\n",
       "            <td>2021-01-01</td>\n",
       "        </tr>\n",
       "        <tr>\n",
       "            <td>2</td>\n",
       "            <td>2021-01-03</td>\n",
       "        </tr>\n",
       "        <tr>\n",
       "            <td>3</td>\n",
       "            <td>2021-01-08</td>\n",
       "        </tr>\n",
       "        <tr>\n",
       "            <td>4</td>\n",
       "            <td>2021-01-15</td>\n",
       "        </tr>\n",
       "    </tbody>\n",
       "</table>"
      ],
      "text/plain": [
       "[(1, '2021-01-01'), (2, '2021-01-03'), (3, '2021-01-08'), (4, '2021-01-15')]"
      ]
     },
     "execution_count": 67,
     "metadata": {},
     "output_type": "execute_result"
    }
   ],
   "source": [
    "%%sql\n",
    "SELECT *\n",
    "FROM runners"
   ]
  },
  {
   "cell_type": "markdown",
   "id": "3b55df04",
   "metadata": {},
   "source": [
    "### Runner Orders Table"
   ]
  },
  {
   "cell_type": "code",
   "execution_count": 68,
   "id": "76aa5157",
   "metadata": {},
   "outputs": [
    {
     "name": "stdout",
     "output_type": "stream",
     "text": [
      " * sqlite://\n",
      "(sqlite3.OperationalError) table runner_orders already exists\n",
      "[SQL: CREATE TABLE runner_orders (\n",
      "  \"order_id\" INTEGER,\n",
      "  \"runner_id\" INTEGER,\n",
      "  \"pickup_time\" VARCHAR(19),\n",
      "  \"distance\" VARCHAR(7),\n",
      "  \"duration\" VARCHAR(10),\n",
      "  \"cancellation\" VARCHAR(23)\n",
      ");]\n",
      "(Background on this error at: https://sqlalche.me/e/14/e3q8)\n"
     ]
    }
   ],
   "source": [
    "%%sql\n",
    "CREATE TABLE runner_orders (\n",
    "  \"order_id\" INTEGER,\n",
    "  \"runner_id\" INTEGER,\n",
    "  \"pickup_time\" VARCHAR(19),\n",
    "  \"distance\" VARCHAR(7),\n",
    "  \"duration\" VARCHAR(10),\n",
    "  \"cancellation\" VARCHAR(23)\n",
    ");\n",
    "\n",
    "INSERT INTO runner_orders\n",
    "  (\"order_id\", \"runner_id\", \"pickup_time\", \"distance\", \"duration\", \"cancellation\")\n",
    "VALUES\n",
    "  ('1', '1', '2020-01-01 18:15:34', '20km', '32 minutes', ''),\n",
    "  ('2', '1', '2020-01-01 19:10:54', '20km', '27 minutes', ''),\n",
    "  ('3', '1', '2020-01-03 00:12:37', '13.4km', '20 mins', NULL),\n",
    "  ('4', '2', '2020-01-04 13:53:03', '23.4', '40', NULL),\n",
    "  ('5', '3', '2020-01-08 21:10:57', '10', '15', NULL),\n",
    "  ('6', '3', 'null', 'null', 'null', 'Restaurant Cancellation'),\n",
    "  ('7', '2', '2020-01-08 21:30:45', '25km', '25mins', 'null'),\n",
    "  ('8', '2', '2020-01-10 00:15:02', '23.4 km', '15 minute', 'null'),\n",
    "  ('9', '2', 'null', 'null', 'null', 'Customer Cancellation'),\n",
    "  ('10', '1', '2020-01-11 18:50:20', '10km', '10minutes', 'null');"
   ]
  },
  {
   "cell_type": "code",
   "execution_count": 69,
   "id": "b3dd0b68",
   "metadata": {
    "scrolled": true
   },
   "outputs": [
    {
     "name": "stdout",
     "output_type": "stream",
     "text": [
      " * sqlite://\n",
      "Done.\n"
     ]
    },
    {
     "data": {
      "text/html": [
       "<table>\n",
       "    <thead>\n",
       "        <tr>\n",
       "            <th>order_id</th>\n",
       "            <th>runner_id</th>\n",
       "            <th>pickup_time</th>\n",
       "            <th>distance</th>\n",
       "            <th>duration</th>\n",
       "            <th>cancellation</th>\n",
       "        </tr>\n",
       "    </thead>\n",
       "    <tbody>\n",
       "        <tr>\n",
       "            <td>1</td>\n",
       "            <td>1</td>\n",
       "            <td>2020-01-01 18:15:34</td>\n",
       "            <td>20km</td>\n",
       "            <td>32 minutes</td>\n",
       "            <td></td>\n",
       "        </tr>\n",
       "        <tr>\n",
       "            <td>2</td>\n",
       "            <td>1</td>\n",
       "            <td>2020-01-01 19:10:54</td>\n",
       "            <td>20km</td>\n",
       "            <td>27 minutes</td>\n",
       "            <td></td>\n",
       "        </tr>\n",
       "        <tr>\n",
       "            <td>3</td>\n",
       "            <td>1</td>\n",
       "            <td>2020-01-03 00:12:37</td>\n",
       "            <td>13.4km</td>\n",
       "            <td>20 mins</td>\n",
       "            <td></td>\n",
       "        </tr>\n",
       "        <tr>\n",
       "            <td>4</td>\n",
       "            <td>2</td>\n",
       "            <td>2020-01-04 13:53:03</td>\n",
       "            <td>23.4</td>\n",
       "            <td>40</td>\n",
       "            <td></td>\n",
       "        </tr>\n",
       "        <tr>\n",
       "            <td>5</td>\n",
       "            <td>3</td>\n",
       "            <td>2020-01-08 21:10:57</td>\n",
       "            <td>10</td>\n",
       "            <td>15</td>\n",
       "            <td></td>\n",
       "        </tr>\n",
       "        <tr>\n",
       "            <td>6</td>\n",
       "            <td>3</td>\n",
       "            <td>null</td>\n",
       "            <td>null</td>\n",
       "            <td>null</td>\n",
       "            <td>cancelled</td>\n",
       "        </tr>\n",
       "        <tr>\n",
       "            <td>7</td>\n",
       "            <td>2</td>\n",
       "            <td>2020-01-08 21:30:45</td>\n",
       "            <td>25km</td>\n",
       "            <td>25mins</td>\n",
       "            <td></td>\n",
       "        </tr>\n",
       "        <tr>\n",
       "            <td>8</td>\n",
       "            <td>2</td>\n",
       "            <td>2020-01-10 00:15:02</td>\n",
       "            <td>23.4 km</td>\n",
       "            <td>15 minute</td>\n",
       "            <td></td>\n",
       "        </tr>\n",
       "        <tr>\n",
       "            <td>9</td>\n",
       "            <td>2</td>\n",
       "            <td>null</td>\n",
       "            <td>null</td>\n",
       "            <td>null</td>\n",
       "            <td>cancelled</td>\n",
       "        </tr>\n",
       "        <tr>\n",
       "            <td>10</td>\n",
       "            <td>1</td>\n",
       "            <td>2020-01-11 18:50:20</td>\n",
       "            <td>10km</td>\n",
       "            <td>10minutes</td>\n",
       "            <td></td>\n",
       "        </tr>\n",
       "    </tbody>\n",
       "</table>"
      ],
      "text/plain": [
       "[(1, 1, '2020-01-01 18:15:34', '20km', '32 minutes', ''),\n",
       " (2, 1, '2020-01-01 19:10:54', '20km', '27 minutes', ''),\n",
       " (3, 1, '2020-01-03 00:12:37', '13.4km', '20 mins', ''),\n",
       " (4, 2, '2020-01-04 13:53:03', '23.4', '40', ''),\n",
       " (5, 3, '2020-01-08 21:10:57', '10', '15', ''),\n",
       " (6, 3, 'null', 'null', 'null', 'cancelled'),\n",
       " (7, 2, '2020-01-08 21:30:45', '25km', '25mins', ''),\n",
       " (8, 2, '2020-01-10 00:15:02', '23.4 km', '15 minute', ''),\n",
       " (9, 2, 'null', 'null', 'null', 'cancelled'),\n",
       " (10, 1, '2020-01-11 18:50:20', '10km', '10minutes', '')]"
      ]
     },
     "execution_count": 69,
     "metadata": {},
     "output_type": "execute_result"
    }
   ],
   "source": [
    "%%sql\n",
    "SELECT * \n",
    "FROM runner_orders"
   ]
  },
  {
   "cell_type": "markdown",
   "id": "f05856d8",
   "metadata": {},
   "source": [
    "### Pizza Names Table"
   ]
  },
  {
   "cell_type": "code",
   "execution_count": 70,
   "id": "4fd52bc8",
   "metadata": {},
   "outputs": [
    {
     "name": "stdout",
     "output_type": "stream",
     "text": [
      " * sqlite://\n",
      "(sqlite3.OperationalError) table pizza_names already exists\n",
      "[SQL: CREATE TABLE pizza_names (\n",
      "  \"pizza_id\" INTEGER,\n",
      "  \"pizza_name\" TEXT\n",
      ");]\n",
      "(Background on this error at: https://sqlalche.me/e/14/e3q8)\n"
     ]
    }
   ],
   "source": [
    "%%sql\n",
    "CREATE TABLE pizza_names (\n",
    "  \"pizza_id\" INTEGER,\n",
    "  \"pizza_name\" TEXT\n",
    ");\n",
    "\n",
    "INSERT INTO pizza_names\n",
    "  (\"pizza_id\", \"pizza_name\")\n",
    "VALUES\n",
    "  (1, 'Meatlovers'),\n",
    "  (2, 'Vegetarian');"
   ]
  },
  {
   "cell_type": "code",
   "execution_count": 71,
   "id": "ca0e3036",
   "metadata": {},
   "outputs": [
    {
     "name": "stdout",
     "output_type": "stream",
     "text": [
      " * sqlite://\n",
      "Done.\n"
     ]
    },
    {
     "data": {
      "text/html": [
       "<table>\n",
       "    <thead>\n",
       "        <tr>\n",
       "            <th>pizza_id</th>\n",
       "            <th>pizza_name</th>\n",
       "        </tr>\n",
       "    </thead>\n",
       "    <tbody>\n",
       "        <tr>\n",
       "            <td>1</td>\n",
       "            <td>Meatlovers</td>\n",
       "        </tr>\n",
       "        <tr>\n",
       "            <td>2</td>\n",
       "            <td>Vegetarian</td>\n",
       "        </tr>\n",
       "    </tbody>\n",
       "</table>"
      ],
      "text/plain": [
       "[(1, 'Meatlovers'), (2, 'Vegetarian')]"
      ]
     },
     "execution_count": 71,
     "metadata": {},
     "output_type": "execute_result"
    }
   ],
   "source": [
    "%%sql\n",
    "SELECT *\n",
    "FROM pizza_names"
   ]
  },
  {
   "cell_type": "markdown",
   "id": "9ef6353a",
   "metadata": {},
   "source": [
    "### Pizza Recipes Table"
   ]
  },
  {
   "cell_type": "code",
   "execution_count": 72,
   "id": "b60afa6b",
   "metadata": {},
   "outputs": [
    {
     "name": "stdout",
     "output_type": "stream",
     "text": [
      " * sqlite://\n",
      "(sqlite3.OperationalError) table pizza_recipes already exists\n",
      "[SQL: CREATE TABLE pizza_recipes (\n",
      "  \"pizza_id\" INTEGER,\n",
      "  \"toppings\" TEXT\n",
      ");]\n",
      "(Background on this error at: https://sqlalche.me/e/14/e3q8)\n"
     ]
    }
   ],
   "source": [
    "%%sql\n",
    "CREATE TABLE pizza_recipes (\n",
    "  \"pizza_id\" INTEGER,\n",
    "  \"toppings\" TEXT\n",
    ");\n",
    "\n",
    "INSERT INTO pizza_recipes\n",
    "  (\"pizza_id\", \"toppings\")\n",
    "VALUES\n",
    "  (1, '1, 2, 3, 4, 5, 6, 8, 10'),\n",
    "  (2, '4, 6, 7, 9, 11, 12');"
   ]
  },
  {
   "cell_type": "code",
   "execution_count": 73,
   "id": "063a36ec",
   "metadata": {},
   "outputs": [
    {
     "name": "stdout",
     "output_type": "stream",
     "text": [
      " * sqlite://\n",
      "Done.\n"
     ]
    },
    {
     "data": {
      "text/html": [
       "<table>\n",
       "    <thead>\n",
       "        <tr>\n",
       "            <th>pizza_id</th>\n",
       "            <th>toppings</th>\n",
       "        </tr>\n",
       "    </thead>\n",
       "    <tbody>\n",
       "        <tr>\n",
       "            <td>1</td>\n",
       "            <td>1, 2, 3, 4, 5, 6, 8, 10</td>\n",
       "        </tr>\n",
       "        <tr>\n",
       "            <td>2</td>\n",
       "            <td>4, 6, 7, 9, 11, 12</td>\n",
       "        </tr>\n",
       "    </tbody>\n",
       "</table>"
      ],
      "text/plain": [
       "[(1, '1, 2, 3, 4, 5, 6, 8, 10'), (2, '4, 6, 7, 9, 11, 12')]"
      ]
     },
     "execution_count": 73,
     "metadata": {},
     "output_type": "execute_result"
    }
   ],
   "source": [
    "%%sql\n",
    "SELECT *\n",
    "FROM pizza_recipes"
   ]
  },
  {
   "cell_type": "markdown",
   "id": "99e8f4e8",
   "metadata": {},
   "source": [
    "### Pizza Toppings Table"
   ]
  },
  {
   "cell_type": "code",
   "execution_count": 74,
   "id": "38b42f67",
   "metadata": {},
   "outputs": [
    {
     "name": "stdout",
     "output_type": "stream",
     "text": [
      " * sqlite://\n",
      "Done.\n",
      "Done.\n",
      "12 rows affected.\n"
     ]
    },
    {
     "data": {
      "text/plain": [
       "[]"
      ]
     },
     "execution_count": 74,
     "metadata": {},
     "output_type": "execute_result"
    }
   ],
   "source": [
    "%%sql\n",
    "DROP TABLE IF EXISTS pizza_toppings;\n",
    "CREATE TABLE pizza_toppings (\n",
    "  \"topping_id\" INTEGER,\n",
    "  \"topping_name\" TEXT\n",
    ");\n",
    "\n",
    "INSERT INTO pizza_toppings\n",
    "  (\"topping_id\", \"topping_name\")\n",
    "VALUES\n",
    "  (1, 'Bacon'),\n",
    "  (2, 'BBQ Sauce'),\n",
    "  (3, 'Beef'),\n",
    "  (4, 'Cheese'),\n",
    "  (5, 'Chicken'),\n",
    "  (6, 'Mushrooms'),\n",
    "  (7, 'Onions'),\n",
    "  (8, 'Pepperoni'),\n",
    "  (9, 'Peppers'),\n",
    "  (10, 'Salami'),\n",
    "  (11, 'Tomatoes'),\n",
    "  (12, 'Tomato Sauce');"
   ]
  },
  {
   "cell_type": "code",
   "execution_count": 75,
   "id": "5e56e2ae",
   "metadata": {},
   "outputs": [
    {
     "name": "stdout",
     "output_type": "stream",
     "text": [
      " * sqlite://\n",
      "Done.\n"
     ]
    },
    {
     "data": {
      "text/html": [
       "<table>\n",
       "    <thead>\n",
       "        <tr>\n",
       "            <th>topping_id</th>\n",
       "            <th>topping_name</th>\n",
       "        </tr>\n",
       "    </thead>\n",
       "    <tbody>\n",
       "        <tr>\n",
       "            <td>1</td>\n",
       "            <td>Bacon</td>\n",
       "        </tr>\n",
       "        <tr>\n",
       "            <td>2</td>\n",
       "            <td>BBQ Sauce</td>\n",
       "        </tr>\n",
       "        <tr>\n",
       "            <td>3</td>\n",
       "            <td>Beef</td>\n",
       "        </tr>\n",
       "        <tr>\n",
       "            <td>4</td>\n",
       "            <td>Cheese</td>\n",
       "        </tr>\n",
       "        <tr>\n",
       "            <td>5</td>\n",
       "            <td>Chicken</td>\n",
       "        </tr>\n",
       "        <tr>\n",
       "            <td>6</td>\n",
       "            <td>Mushrooms</td>\n",
       "        </tr>\n",
       "        <tr>\n",
       "            <td>7</td>\n",
       "            <td>Onions</td>\n",
       "        </tr>\n",
       "        <tr>\n",
       "            <td>8</td>\n",
       "            <td>Pepperoni</td>\n",
       "        </tr>\n",
       "        <tr>\n",
       "            <td>9</td>\n",
       "            <td>Peppers</td>\n",
       "        </tr>\n",
       "        <tr>\n",
       "            <td>10</td>\n",
       "            <td>Salami</td>\n",
       "        </tr>\n",
       "        <tr>\n",
       "            <td>11</td>\n",
       "            <td>Tomatoes</td>\n",
       "        </tr>\n",
       "        <tr>\n",
       "            <td>12</td>\n",
       "            <td>Tomato Sauce</td>\n",
       "        </tr>\n",
       "    </tbody>\n",
       "</table>"
      ],
      "text/plain": [
       "[(1, 'Bacon'),\n",
       " (2, 'BBQ Sauce'),\n",
       " (3, 'Beef'),\n",
       " (4, 'Cheese'),\n",
       " (5, 'Chicken'),\n",
       " (6, 'Mushrooms'),\n",
       " (7, 'Onions'),\n",
       " (8, 'Pepperoni'),\n",
       " (9, 'Peppers'),\n",
       " (10, 'Salami'),\n",
       " (11, 'Tomatoes'),\n",
       " (12, 'Tomato Sauce')]"
      ]
     },
     "execution_count": 75,
     "metadata": {},
     "output_type": "execute_result"
    }
   ],
   "source": [
    "%%sql\n",
    "SELECT *\n",
    "FROM pizza_toppings"
   ]
  },
  {
   "cell_type": "code",
   "execution_count": null,
   "id": "a34fec84",
   "metadata": {},
   "outputs": [],
   "source": []
  },
  {
   "cell_type": "markdown",
   "id": "c0d31da2",
   "metadata": {},
   "source": [
    "## Part 1: PIZZA METRICS"
   ]
  },
  {
   "cell_type": "markdown",
   "id": "8946ccd2",
   "metadata": {},
   "source": [
    "### 1. How many pizzas were ordered?"
   ]
  },
  {
   "cell_type": "code",
   "execution_count": 76,
   "id": "80a34672",
   "metadata": {},
   "outputs": [
    {
     "name": "stdout",
     "output_type": "stream",
     "text": [
      " * sqlite://\n",
      "Done.\n"
     ]
    },
    {
     "data": {
      "text/html": [
       "<table>\n",
       "    <thead>\n",
       "        <tr>\n",
       "            <th>pizzas_ordered</th>\n",
       "        </tr>\n",
       "    </thead>\n",
       "    <tbody>\n",
       "        <tr>\n",
       "            <td>14</td>\n",
       "        </tr>\n",
       "    </tbody>\n",
       "</table>"
      ],
      "text/plain": [
       "[(14,)]"
      ]
     },
     "execution_count": 76,
     "metadata": {},
     "output_type": "execute_result"
    }
   ],
   "source": [
    "%%sql\n",
    "SELECT\n",
    "    COUNT(pizza_id) as pizzas_ordered\n",
    "FROM customer_orders"
   ]
  },
  {
   "cell_type": "markdown",
   "id": "b7b29a1e",
   "metadata": {},
   "source": [
    "#### Observations\n",
    "\n",
    "* 14 pizzas were ordered in total"
   ]
  },
  {
   "cell_type": "markdown",
   "id": "a55204f5",
   "metadata": {},
   "source": [
    "### 2. How many unique customer orders were made?"
   ]
  },
  {
   "cell_type": "code",
   "execution_count": 77,
   "id": "15d9af17",
   "metadata": {},
   "outputs": [
    {
     "name": "stdout",
     "output_type": "stream",
     "text": [
      " * sqlite://\n",
      "Done.\n"
     ]
    },
    {
     "data": {
      "text/html": [
       "<table>\n",
       "    <thead>\n",
       "        <tr>\n",
       "            <th>unique_customer_orders</th>\n",
       "        </tr>\n",
       "    </thead>\n",
       "    <tbody>\n",
       "        <tr>\n",
       "            <td>10</td>\n",
       "        </tr>\n",
       "    </tbody>\n",
       "</table>"
      ],
      "text/plain": [
       "[(10,)]"
      ]
     },
     "execution_count": 77,
     "metadata": {},
     "output_type": "execute_result"
    }
   ],
   "source": [
    "%%sql\n",
    "SELECT\n",
    "    COUNT(DISTINCT order_id) as unique_customer_orders\n",
    "FROM customer_orders "
   ]
  },
  {
   "cell_type": "markdown",
   "id": "73656fe0",
   "metadata": {},
   "source": [
    "#### Observations\n",
    "\n",
    "* 10 unique customer orders were made."
   ]
  },
  {
   "cell_type": "markdown",
   "id": "4f350e0e",
   "metadata": {},
   "source": [
    "### 3. How many successful orders were delivered by each runner?"
   ]
  },
  {
   "cell_type": "code",
   "execution_count": 78,
   "id": "9cdffddb",
   "metadata": {},
   "outputs": [
    {
     "name": "stdout",
     "output_type": "stream",
     "text": [
      " * sqlite://\n",
      "Done.\n"
     ]
    },
    {
     "data": {
      "text/html": [
       "<table>\n",
       "    <thead>\n",
       "        <tr>\n",
       "            <th>order_id</th>\n",
       "            <th>runner_id</th>\n",
       "            <th>pickup_time</th>\n",
       "            <th>distance</th>\n",
       "            <th>duration</th>\n",
       "            <th>cancellation</th>\n",
       "        </tr>\n",
       "    </thead>\n",
       "    <tbody>\n",
       "        <tr>\n",
       "            <td>1</td>\n",
       "            <td>1</td>\n",
       "            <td>2020-01-01 18:15:34</td>\n",
       "            <td>20km</td>\n",
       "            <td>32 minutes</td>\n",
       "            <td></td>\n",
       "        </tr>\n",
       "        <tr>\n",
       "            <td>2</td>\n",
       "            <td>1</td>\n",
       "            <td>2020-01-01 19:10:54</td>\n",
       "            <td>20km</td>\n",
       "            <td>27 minutes</td>\n",
       "            <td></td>\n",
       "        </tr>\n",
       "        <tr>\n",
       "            <td>3</td>\n",
       "            <td>1</td>\n",
       "            <td>2020-01-03 00:12:37</td>\n",
       "            <td>13.4km</td>\n",
       "            <td>20 mins</td>\n",
       "            <td></td>\n",
       "        </tr>\n",
       "        <tr>\n",
       "            <td>4</td>\n",
       "            <td>2</td>\n",
       "            <td>2020-01-04 13:53:03</td>\n",
       "            <td>23.4</td>\n",
       "            <td>40</td>\n",
       "            <td></td>\n",
       "        </tr>\n",
       "        <tr>\n",
       "            <td>5</td>\n",
       "            <td>3</td>\n",
       "            <td>2020-01-08 21:10:57</td>\n",
       "            <td>10</td>\n",
       "            <td>15</td>\n",
       "            <td></td>\n",
       "        </tr>\n",
       "        <tr>\n",
       "            <td>6</td>\n",
       "            <td>3</td>\n",
       "            <td>null</td>\n",
       "            <td>null</td>\n",
       "            <td>null</td>\n",
       "            <td>cancelled</td>\n",
       "        </tr>\n",
       "        <tr>\n",
       "            <td>7</td>\n",
       "            <td>2</td>\n",
       "            <td>2020-01-08 21:30:45</td>\n",
       "            <td>25km</td>\n",
       "            <td>25mins</td>\n",
       "            <td></td>\n",
       "        </tr>\n",
       "        <tr>\n",
       "            <td>8</td>\n",
       "            <td>2</td>\n",
       "            <td>2020-01-10 00:15:02</td>\n",
       "            <td>23.4 km</td>\n",
       "            <td>15 minute</td>\n",
       "            <td></td>\n",
       "        </tr>\n",
       "        <tr>\n",
       "            <td>9</td>\n",
       "            <td>2</td>\n",
       "            <td>null</td>\n",
       "            <td>null</td>\n",
       "            <td>null</td>\n",
       "            <td>cancelled</td>\n",
       "        </tr>\n",
       "        <tr>\n",
       "            <td>10</td>\n",
       "            <td>1</td>\n",
       "            <td>2020-01-11 18:50:20</td>\n",
       "            <td>10km</td>\n",
       "            <td>10minutes</td>\n",
       "            <td></td>\n",
       "        </tr>\n",
       "    </tbody>\n",
       "</table>"
      ],
      "text/plain": [
       "[(1, 1, '2020-01-01 18:15:34', '20km', '32 minutes', ''),\n",
       " (2, 1, '2020-01-01 19:10:54', '20km', '27 minutes', ''),\n",
       " (3, 1, '2020-01-03 00:12:37', '13.4km', '20 mins', ''),\n",
       " (4, 2, '2020-01-04 13:53:03', '23.4', '40', ''),\n",
       " (5, 3, '2020-01-08 21:10:57', '10', '15', ''),\n",
       " (6, 3, 'null', 'null', 'null', 'cancelled'),\n",
       " (7, 2, '2020-01-08 21:30:45', '25km', '25mins', ''),\n",
       " (8, 2, '2020-01-10 00:15:02', '23.4 km', '15 minute', ''),\n",
       " (9, 2, 'null', 'null', 'null', 'cancelled'),\n",
       " (10, 1, '2020-01-11 18:50:20', '10km', '10minutes', '')]"
      ]
     },
     "execution_count": 78,
     "metadata": {},
     "output_type": "execute_result"
    }
   ],
   "source": [
    "%%sql\n",
    "SELECT * \n",
    "FROM runner_orders"
   ]
  },
  {
   "cell_type": "markdown",
   "id": "0ca26dc9",
   "metadata": {},
   "source": [
    "#### Clean runner_orders table\n",
    "\n",
    "- Replace 'None' and 'null' with blanks\n",
    "- Replace any type of cancellation with the word 'cancelled' in the cancellation column"
   ]
  },
  {
   "cell_type": "code",
   "execution_count": 79,
   "id": "76261bc3",
   "metadata": {},
   "outputs": [
    {
     "name": "stdout",
     "output_type": "stream",
     "text": [
      " * sqlite://\n",
      "10 rows affected.\n"
     ]
    },
    {
     "data": {
      "text/plain": [
       "[]"
      ]
     },
     "execution_count": 79,
     "metadata": {},
     "output_type": "execute_result"
    }
   ],
   "source": [
    "%%sql\n",
    "UPDATE runner_orders\n",
    "SET cancellation = \n",
    "    CASE \n",
    "        WHEN cancellation IS NULL OR cancellation = 'null' THEN ''\n",
    "        WHEN cancellation LIKE '%Cancellation%' THEN 'cancelled'\n",
    "        ELSE cancellation\n",
    "    END;"
   ]
  },
  {
   "cell_type": "code",
   "execution_count": 80,
   "id": "c37867de",
   "metadata": {},
   "outputs": [
    {
     "name": "stdout",
     "output_type": "stream",
     "text": [
      " * sqlite://\n",
      "Done.\n"
     ]
    },
    {
     "data": {
      "text/html": [
       "<table>\n",
       "    <thead>\n",
       "        <tr>\n",
       "            <th>order_id</th>\n",
       "            <th>runner_id</th>\n",
       "            <th>pickup_time</th>\n",
       "            <th>distance</th>\n",
       "            <th>duration</th>\n",
       "            <th>cancellation</th>\n",
       "        </tr>\n",
       "    </thead>\n",
       "    <tbody>\n",
       "        <tr>\n",
       "            <td>1</td>\n",
       "            <td>1</td>\n",
       "            <td>2020-01-01 18:15:34</td>\n",
       "            <td>20km</td>\n",
       "            <td>32 minutes</td>\n",
       "            <td></td>\n",
       "        </tr>\n",
       "        <tr>\n",
       "            <td>2</td>\n",
       "            <td>1</td>\n",
       "            <td>2020-01-01 19:10:54</td>\n",
       "            <td>20km</td>\n",
       "            <td>27 minutes</td>\n",
       "            <td></td>\n",
       "        </tr>\n",
       "        <tr>\n",
       "            <td>3</td>\n",
       "            <td>1</td>\n",
       "            <td>2020-01-03 00:12:37</td>\n",
       "            <td>13.4km</td>\n",
       "            <td>20 mins</td>\n",
       "            <td></td>\n",
       "        </tr>\n",
       "        <tr>\n",
       "            <td>10</td>\n",
       "            <td>1</td>\n",
       "            <td>2020-01-11 18:50:20</td>\n",
       "            <td>10km</td>\n",
       "            <td>10minutes</td>\n",
       "            <td></td>\n",
       "        </tr>\n",
       "        <tr>\n",
       "            <td>4</td>\n",
       "            <td>2</td>\n",
       "            <td>2020-01-04 13:53:03</td>\n",
       "            <td>23.4</td>\n",
       "            <td>40</td>\n",
       "            <td></td>\n",
       "        </tr>\n",
       "        <tr>\n",
       "            <td>7</td>\n",
       "            <td>2</td>\n",
       "            <td>2020-01-08 21:30:45</td>\n",
       "            <td>25km</td>\n",
       "            <td>25mins</td>\n",
       "            <td></td>\n",
       "        </tr>\n",
       "        <tr>\n",
       "            <td>8</td>\n",
       "            <td>2</td>\n",
       "            <td>2020-01-10 00:15:02</td>\n",
       "            <td>23.4 km</td>\n",
       "            <td>15 minute</td>\n",
       "            <td></td>\n",
       "        </tr>\n",
       "        <tr>\n",
       "            <td>9</td>\n",
       "            <td>2</td>\n",
       "            <td>null</td>\n",
       "            <td>null</td>\n",
       "            <td>null</td>\n",
       "            <td>cancelled</td>\n",
       "        </tr>\n",
       "        <tr>\n",
       "            <td>5</td>\n",
       "            <td>3</td>\n",
       "            <td>2020-01-08 21:10:57</td>\n",
       "            <td>10</td>\n",
       "            <td>15</td>\n",
       "            <td></td>\n",
       "        </tr>\n",
       "        <tr>\n",
       "            <td>6</td>\n",
       "            <td>3</td>\n",
       "            <td>null</td>\n",
       "            <td>null</td>\n",
       "            <td>null</td>\n",
       "            <td>cancelled</td>\n",
       "        </tr>\n",
       "    </tbody>\n",
       "</table>"
      ],
      "text/plain": [
       "[(1, 1, '2020-01-01 18:15:34', '20km', '32 minutes', ''),\n",
       " (2, 1, '2020-01-01 19:10:54', '20km', '27 minutes', ''),\n",
       " (3, 1, '2020-01-03 00:12:37', '13.4km', '20 mins', ''),\n",
       " (10, 1, '2020-01-11 18:50:20', '10km', '10minutes', ''),\n",
       " (4, 2, '2020-01-04 13:53:03', '23.4', '40', ''),\n",
       " (7, 2, '2020-01-08 21:30:45', '25km', '25mins', ''),\n",
       " (8, 2, '2020-01-10 00:15:02', '23.4 km', '15 minute', ''),\n",
       " (9, 2, 'null', 'null', 'null', 'cancelled'),\n",
       " (5, 3, '2020-01-08 21:10:57', '10', '15', ''),\n",
       " (6, 3, 'null', 'null', 'null', 'cancelled')]"
      ]
     },
     "execution_count": 80,
     "metadata": {},
     "output_type": "execute_result"
    }
   ],
   "source": [
    "%%sql\n",
    "SELECT *\n",
    "FROM runner_orders\n",
    "ORDER BY 2"
   ]
  },
  {
   "cell_type": "code",
   "execution_count": 81,
   "id": "16811840",
   "metadata": {},
   "outputs": [
    {
     "name": "stdout",
     "output_type": "stream",
     "text": [
      " * sqlite://\n",
      "Done.\n"
     ]
    },
    {
     "data": {
      "text/html": [
       "<table>\n",
       "    <thead>\n",
       "        <tr>\n",
       "            <th>runner_id</th>\n",
       "            <th>successful_deliveries</th>\n",
       "        </tr>\n",
       "    </thead>\n",
       "    <tbody>\n",
       "        <tr>\n",
       "            <td>1</td>\n",
       "            <td>4</td>\n",
       "        </tr>\n",
       "        <tr>\n",
       "            <td>2</td>\n",
       "            <td>3</td>\n",
       "        </tr>\n",
       "        <tr>\n",
       "            <td>3</td>\n",
       "            <td>1</td>\n",
       "        </tr>\n",
       "    </tbody>\n",
       "</table>"
      ],
      "text/plain": [
       "[(1, 4), (2, 3), (3, 1)]"
      ]
     },
     "execution_count": 81,
     "metadata": {},
     "output_type": "execute_result"
    }
   ],
   "source": [
    "%%sql\n",
    "SELECT\n",
    "    runner_id,\n",
    "    COUNT(order_id) as successful_deliveries\n",
    "FROM runner_orders\n",
    "WHERE cancellation = ''\n",
    "GROUP BY 1"
   ]
  },
  {
   "cell_type": "markdown",
   "id": "422fe7bc",
   "metadata": {},
   "source": [
    "#### Observations\n",
    "* Runner 1 had 4 successful deliveries\n",
    "* Runner 2 had 3 successful deliveries\n",
    "* Runner 3 had 1 successful delivery"
   ]
  },
  {
   "cell_type": "markdown",
   "id": "e1c6ecbb",
   "metadata": {},
   "source": [
    "### 4. How many of each type of pizza was delivered?"
   ]
  },
  {
   "cell_type": "code",
   "execution_count": 82,
   "id": "34c6d48e",
   "metadata": {},
   "outputs": [
    {
     "name": "stdout",
     "output_type": "stream",
     "text": [
      " * sqlite://\n",
      "Done.\n"
     ]
    },
    {
     "data": {
      "text/html": [
       "<table>\n",
       "    <thead>\n",
       "        <tr>\n",
       "            <th>pizza_name</th>\n",
       "            <th>pizzas_delivered</th>\n",
       "        </tr>\n",
       "    </thead>\n",
       "    <tbody>\n",
       "        <tr>\n",
       "            <td>Meatlovers</td>\n",
       "            <td>9</td>\n",
       "        </tr>\n",
       "        <tr>\n",
       "            <td>Vegetarian</td>\n",
       "            <td>3</td>\n",
       "        </tr>\n",
       "    </tbody>\n",
       "</table>"
      ],
      "text/plain": [
       "[('Meatlovers', 9), ('Vegetarian', 3)]"
      ]
     },
     "execution_count": 82,
     "metadata": {},
     "output_type": "execute_result"
    }
   ],
   "source": [
    "%%sql\n",
    "SELECT\n",
    "    pn.pizza_name,\n",
    "    COUNT(*) as pizzas_delivered\n",
    "FROM customer_orders as co\n",
    "JOIN pizza_names as pn\n",
    "ON co.pizza_id = pn.pizza_id\n",
    "JOIN runner_orders as ro\n",
    "ON co.order_id = ro.order_id\n",
    "WHERE ro.cancellation = ''\n",
    "GROUP BY 1"
   ]
  },
  {
   "cell_type": "markdown",
   "id": "34978ca2",
   "metadata": {},
   "source": [
    "#### Observations"
   ]
  },
  {
   "cell_type": "markdown",
   "id": "e5e94d6d",
   "metadata": {},
   "source": [
    "* 9 Meatlovers and 3 Vegetarian pizzas were delivered."
   ]
  },
  {
   "cell_type": "markdown",
   "id": "744a35ff",
   "metadata": {},
   "source": [
    "### 5. How many Vegetarian and Meatlovers were ordered by each customer?"
   ]
  },
  {
   "cell_type": "code",
   "execution_count": 83,
   "id": "691d4b9d",
   "metadata": {},
   "outputs": [
    {
     "name": "stdout",
     "output_type": "stream",
     "text": [
      " * sqlite://\n",
      "Done.\n"
     ]
    },
    {
     "data": {
      "text/html": [
       "<table>\n",
       "    <thead>\n",
       "        <tr>\n",
       "            <th>order_id</th>\n",
       "            <th>customer_id</th>\n",
       "            <th>pizza_id</th>\n",
       "            <th>exclusions</th>\n",
       "            <th>extras</th>\n",
       "            <th>order_time</th>\n",
       "        </tr>\n",
       "    </thead>\n",
       "    <tbody>\n",
       "        <tr>\n",
       "            <td>1</td>\n",
       "            <td>101</td>\n",
       "            <td>1</td>\n",
       "            <td></td>\n",
       "            <td></td>\n",
       "            <td>2020-01-01 18:05:02</td>\n",
       "        </tr>\n",
       "        <tr>\n",
       "            <td>2</td>\n",
       "            <td>101</td>\n",
       "            <td>1</td>\n",
       "            <td></td>\n",
       "            <td></td>\n",
       "            <td>2020-01-01 19:00:52</td>\n",
       "        </tr>\n",
       "        <tr>\n",
       "            <td>6</td>\n",
       "            <td>101</td>\n",
       "            <td>2</td>\n",
       "            <td></td>\n",
       "            <td></td>\n",
       "            <td>2020-01-08 21:03:13</td>\n",
       "        </tr>\n",
       "        <tr>\n",
       "            <td>3</td>\n",
       "            <td>102</td>\n",
       "            <td>1</td>\n",
       "            <td></td>\n",
       "            <td></td>\n",
       "            <td>2020-01-02 23:51:23</td>\n",
       "        </tr>\n",
       "        <tr>\n",
       "            <td>3</td>\n",
       "            <td>102</td>\n",
       "            <td>2</td>\n",
       "            <td></td>\n",
       "            <td></td>\n",
       "            <td>2020-01-02 23:51:23</td>\n",
       "        </tr>\n",
       "        <tr>\n",
       "            <td>8</td>\n",
       "            <td>102</td>\n",
       "            <td>1</td>\n",
       "            <td></td>\n",
       "            <td></td>\n",
       "            <td>2020-01-09 23:54:33</td>\n",
       "        </tr>\n",
       "        <tr>\n",
       "            <td>4</td>\n",
       "            <td>103</td>\n",
       "            <td>1</td>\n",
       "            <td>4</td>\n",
       "            <td></td>\n",
       "            <td>2020-01-04 13:23:46</td>\n",
       "        </tr>\n",
       "        <tr>\n",
       "            <td>4</td>\n",
       "            <td>103</td>\n",
       "            <td>1</td>\n",
       "            <td>4</td>\n",
       "            <td></td>\n",
       "            <td>2020-01-04 13:23:46</td>\n",
       "        </tr>\n",
       "        <tr>\n",
       "            <td>4</td>\n",
       "            <td>103</td>\n",
       "            <td>2</td>\n",
       "            <td>4</td>\n",
       "            <td></td>\n",
       "            <td>2020-01-04 13:23:46</td>\n",
       "        </tr>\n",
       "        <tr>\n",
       "            <td>9</td>\n",
       "            <td>103</td>\n",
       "            <td>1</td>\n",
       "            <td>4</td>\n",
       "            <td>1, 5</td>\n",
       "            <td>2020-01-10 11:22:59</td>\n",
       "        </tr>\n",
       "        <tr>\n",
       "            <td>5</td>\n",
       "            <td>104</td>\n",
       "            <td>1</td>\n",
       "            <td></td>\n",
       "            <td>1</td>\n",
       "            <td>2020-01-08 21:00:29</td>\n",
       "        </tr>\n",
       "        <tr>\n",
       "            <td>10</td>\n",
       "            <td>104</td>\n",
       "            <td>1</td>\n",
       "            <td></td>\n",
       "            <td></td>\n",
       "            <td>2020-01-11 18:34:49</td>\n",
       "        </tr>\n",
       "        <tr>\n",
       "            <td>10</td>\n",
       "            <td>104</td>\n",
       "            <td>1</td>\n",
       "            <td>2, 6</td>\n",
       "            <td>1, 4</td>\n",
       "            <td>2020-01-11 18:34:49</td>\n",
       "        </tr>\n",
       "        <tr>\n",
       "            <td>7</td>\n",
       "            <td>105</td>\n",
       "            <td>2</td>\n",
       "            <td></td>\n",
       "            <td>1</td>\n",
       "            <td>2020-01-08 21:20:29</td>\n",
       "        </tr>\n",
       "    </tbody>\n",
       "</table>"
      ],
      "text/plain": [
       "[(1, 101, 1, '', '', '2020-01-01 18:05:02'),\n",
       " (2, 101, 1, '', '', '2020-01-01 19:00:52'),\n",
       " (6, 101, 2, '', '', '2020-01-08 21:03:13'),\n",
       " (3, 102, 1, '', '', '2020-01-02 23:51:23'),\n",
       " (3, 102, 2, '', '', '2020-01-02 23:51:23'),\n",
       " (8, 102, 1, '', '', '2020-01-09 23:54:33'),\n",
       " (4, 103, 1, '4', '', '2020-01-04 13:23:46'),\n",
       " (4, 103, 1, '4', '', '2020-01-04 13:23:46'),\n",
       " (4, 103, 2, '4', '', '2020-01-04 13:23:46'),\n",
       " (9, 103, 1, '4', '1, 5', '2020-01-10 11:22:59'),\n",
       " (5, 104, 1, '', '1', '2020-01-08 21:00:29'),\n",
       " (10, 104, 1, '', '', '2020-01-11 18:34:49'),\n",
       " (10, 104, 1, '2, 6', '1, 4', '2020-01-11 18:34:49'),\n",
       " (7, 105, 2, '', '1', '2020-01-08 21:20:29')]"
      ]
     },
     "execution_count": 83,
     "metadata": {},
     "output_type": "execute_result"
    }
   ],
   "source": [
    "%%sql\n",
    "SELECT *\n",
    "FROM customer_orders\n",
    "ORDER BY 2"
   ]
  },
  {
   "cell_type": "code",
   "execution_count": 84,
   "id": "29a83a46",
   "metadata": {},
   "outputs": [
    {
     "name": "stdout",
     "output_type": "stream",
     "text": [
      " * sqlite://\n",
      "Done.\n"
     ]
    },
    {
     "data": {
      "text/html": [
       "<table>\n",
       "    <thead>\n",
       "        <tr>\n",
       "            <th>customer_id</th>\n",
       "            <th>pizza_name</th>\n",
       "            <th>pizzas_ordered</th>\n",
       "        </tr>\n",
       "    </thead>\n",
       "    <tbody>\n",
       "        <tr>\n",
       "            <td>101</td>\n",
       "            <td>Meatlovers</td>\n",
       "            <td>2</td>\n",
       "        </tr>\n",
       "        <tr>\n",
       "            <td>101</td>\n",
       "            <td>Vegetarian</td>\n",
       "            <td>1</td>\n",
       "        </tr>\n",
       "        <tr>\n",
       "            <td>102</td>\n",
       "            <td>Meatlovers</td>\n",
       "            <td>2</td>\n",
       "        </tr>\n",
       "        <tr>\n",
       "            <td>102</td>\n",
       "            <td>Vegetarian</td>\n",
       "            <td>1</td>\n",
       "        </tr>\n",
       "        <tr>\n",
       "            <td>103</td>\n",
       "            <td>Meatlovers</td>\n",
       "            <td>3</td>\n",
       "        </tr>\n",
       "        <tr>\n",
       "            <td>103</td>\n",
       "            <td>Vegetarian</td>\n",
       "            <td>1</td>\n",
       "        </tr>\n",
       "        <tr>\n",
       "            <td>104</td>\n",
       "            <td>Meatlovers</td>\n",
       "            <td>3</td>\n",
       "        </tr>\n",
       "        <tr>\n",
       "            <td>105</td>\n",
       "            <td>Vegetarian</td>\n",
       "            <td>1</td>\n",
       "        </tr>\n",
       "    </tbody>\n",
       "</table>"
      ],
      "text/plain": [
       "[(101, 'Meatlovers', 2),\n",
       " (101, 'Vegetarian', 1),\n",
       " (102, 'Meatlovers', 2),\n",
       " (102, 'Vegetarian', 1),\n",
       " (103, 'Meatlovers', 3),\n",
       " (103, 'Vegetarian', 1),\n",
       " (104, 'Meatlovers', 3),\n",
       " (105, 'Vegetarian', 1)]"
      ]
     },
     "execution_count": 84,
     "metadata": {},
     "output_type": "execute_result"
    }
   ],
   "source": [
    "%%sql\n",
    "SELECT \n",
    "    co.customer_id, \n",
    "    pn.pizza_name, \n",
    "    COUNT(co.order_id) AS pizzas_ordered\n",
    "FROM customer_orders co\n",
    "JOIN pizza_names as pn \n",
    "ON co.pizza_id = pn.pizza_id\n",
    "GROUP BY 1, 2"
   ]
  },
  {
   "cell_type": "markdown",
   "id": "341078b0",
   "metadata": {},
   "source": [
    "#### Observations\n",
    "* Customer 101 ordered 2 Meatlovers and 1 Vegetarian\n",
    "* Customer 102 ordered 2 Meatlovers and 1 Vegetarian\n",
    "* Customer 103 ordered 3 Meatlovers and 1 Vegetarian\n",
    "* Customer 104 ordered 3 Meatlovers\n",
    "* Customer 105 ordered 1 Vegetarian"
   ]
  },
  {
   "cell_type": "markdown",
   "id": "1fe752c4",
   "metadata": {},
   "source": [
    "### 6. What was the maximum number of pizzas delivered in a single order?"
   ]
  },
  {
   "cell_type": "markdown",
   "id": "faa0692c",
   "metadata": {},
   "source": [
    "#### Step 1: Count the number of pizzas in each order."
   ]
  },
  {
   "cell_type": "code",
   "execution_count": 85,
   "id": "6f9dd1e7",
   "metadata": {},
   "outputs": [
    {
     "name": "stdout",
     "output_type": "stream",
     "text": [
      " * sqlite://\n",
      "Done.\n"
     ]
    },
    {
     "data": {
      "text/html": [
       "<table>\n",
       "    <thead>\n",
       "        <tr>\n",
       "            <th>order_id</th>\n",
       "            <th>cnt</th>\n",
       "        </tr>\n",
       "    </thead>\n",
       "    <tbody>\n",
       "        <tr>\n",
       "            <td>1</td>\n",
       "            <td>1</td>\n",
       "        </tr>\n",
       "        <tr>\n",
       "            <td>2</td>\n",
       "            <td>1</td>\n",
       "        </tr>\n",
       "        <tr>\n",
       "            <td>3</td>\n",
       "            <td>2</td>\n",
       "        </tr>\n",
       "        <tr>\n",
       "            <td>4</td>\n",
       "            <td>3</td>\n",
       "        </tr>\n",
       "        <tr>\n",
       "            <td>5</td>\n",
       "            <td>1</td>\n",
       "        </tr>\n",
       "        <tr>\n",
       "            <td>6</td>\n",
       "            <td>1</td>\n",
       "        </tr>\n",
       "        <tr>\n",
       "            <td>7</td>\n",
       "            <td>1</td>\n",
       "        </tr>\n",
       "        <tr>\n",
       "            <td>8</td>\n",
       "            <td>1</td>\n",
       "        </tr>\n",
       "        <tr>\n",
       "            <td>9</td>\n",
       "            <td>1</td>\n",
       "        </tr>\n",
       "        <tr>\n",
       "            <td>10</td>\n",
       "            <td>2</td>\n",
       "        </tr>\n",
       "    </tbody>\n",
       "</table>"
      ],
      "text/plain": [
       "[(1, 1),\n",
       " (2, 1),\n",
       " (3, 2),\n",
       " (4, 3),\n",
       " (5, 1),\n",
       " (6, 1),\n",
       " (7, 1),\n",
       " (8, 1),\n",
       " (9, 1),\n",
       " (10, 2)]"
      ]
     },
     "execution_count": 85,
     "metadata": {},
     "output_type": "execute_result"
    }
   ],
   "source": [
    "%%sql\n",
    "SELECT\n",
    "    order_id,\n",
    "    COUNT(pizza_id) as cnt\n",
    "FROM customer_orders as co\n",
    "GROUP BY 1"
   ]
  },
  {
   "cell_type": "markdown",
   "id": "1efedbc9",
   "metadata": {},
   "source": [
    "#### Step 2: Determine which order had the most pizzas delivered"
   ]
  },
  {
   "cell_type": "code",
   "execution_count": 86,
   "id": "9d55391f",
   "metadata": {},
   "outputs": [
    {
     "name": "stdout",
     "output_type": "stream",
     "text": [
      " * sqlite://\n",
      "Done.\n"
     ]
    },
    {
     "data": {
      "text/html": [
       "<table>\n",
       "    <thead>\n",
       "        <tr>\n",
       "            <th>order_id</th>\n",
       "            <th>pizzas_deliverd</th>\n",
       "        </tr>\n",
       "    </thead>\n",
       "    <tbody>\n",
       "        <tr>\n",
       "            <td>4</td>\n",
       "            <td>3</td>\n",
       "        </tr>\n",
       "    </tbody>\n",
       "</table>"
      ],
      "text/plain": [
       "[(4, 3)]"
      ]
     },
     "execution_count": 86,
     "metadata": {},
     "output_type": "execute_result"
    }
   ],
   "source": [
    "%%sql\n",
    "WITH pizzas_per_order AS (\n",
    "    SELECT\n",
    "        co.order_id,\n",
    "        COUNT(*) as pizza_count\n",
    "    FROM customer_orders as co\n",
    "    GROUP BY 1\n",
    ")\n",
    "\n",
    "SELECT\n",
    "    ppo.order_id,\n",
    "    MAX(ppo.pizza_count) as pizzas_deliverd\n",
    "FROM pizzas_per_order as ppo\n",
    "JOIN runner_orders as ro\n",
    "ON ppo.order_id = ro.order_id\n",
    "WHERE ro.cancellation = ''"
   ]
  },
  {
   "cell_type": "markdown",
   "id": "8baebdec",
   "metadata": {},
   "source": [
    "#### Observations\n",
    "* Order number 4 had the most pizzas delivered in a single order with 3."
   ]
  },
  {
   "cell_type": "markdown",
   "id": "e51633d1",
   "metadata": {},
   "source": [
    "### 7. For each customer, how many delivered pizzas had at least 1 change and how many had no changes?"
   ]
  },
  {
   "cell_type": "code",
   "execution_count": 87,
   "id": "7bb5c7ef",
   "metadata": {},
   "outputs": [
    {
     "name": "stdout",
     "output_type": "stream",
     "text": [
      " * sqlite://\n",
      "Done.\n"
     ]
    },
    {
     "data": {
      "text/html": [
       "<table>\n",
       "    <thead>\n",
       "        <tr>\n",
       "            <th>order_id</th>\n",
       "            <th>customer_id</th>\n",
       "            <th>pizza_id</th>\n",
       "            <th>exclusions</th>\n",
       "            <th>extras</th>\n",
       "            <th>order_time</th>\n",
       "        </tr>\n",
       "    </thead>\n",
       "    <tbody>\n",
       "        <tr>\n",
       "            <td>1</td>\n",
       "            <td>101</td>\n",
       "            <td>1</td>\n",
       "            <td></td>\n",
       "            <td></td>\n",
       "            <td>2020-01-01 18:05:02</td>\n",
       "        </tr>\n",
       "        <tr>\n",
       "            <td>2</td>\n",
       "            <td>101</td>\n",
       "            <td>1</td>\n",
       "            <td></td>\n",
       "            <td></td>\n",
       "            <td>2020-01-01 19:00:52</td>\n",
       "        </tr>\n",
       "        <tr>\n",
       "            <td>3</td>\n",
       "            <td>102</td>\n",
       "            <td>1</td>\n",
       "            <td></td>\n",
       "            <td></td>\n",
       "            <td>2020-01-02 23:51:23</td>\n",
       "        </tr>\n",
       "        <tr>\n",
       "            <td>3</td>\n",
       "            <td>102</td>\n",
       "            <td>2</td>\n",
       "            <td></td>\n",
       "            <td></td>\n",
       "            <td>2020-01-02 23:51:23</td>\n",
       "        </tr>\n",
       "        <tr>\n",
       "            <td>4</td>\n",
       "            <td>103</td>\n",
       "            <td>1</td>\n",
       "            <td>4</td>\n",
       "            <td></td>\n",
       "            <td>2020-01-04 13:23:46</td>\n",
       "        </tr>\n",
       "        <tr>\n",
       "            <td>4</td>\n",
       "            <td>103</td>\n",
       "            <td>1</td>\n",
       "            <td>4</td>\n",
       "            <td></td>\n",
       "            <td>2020-01-04 13:23:46</td>\n",
       "        </tr>\n",
       "        <tr>\n",
       "            <td>4</td>\n",
       "            <td>103</td>\n",
       "            <td>2</td>\n",
       "            <td>4</td>\n",
       "            <td></td>\n",
       "            <td>2020-01-04 13:23:46</td>\n",
       "        </tr>\n",
       "        <tr>\n",
       "            <td>5</td>\n",
       "            <td>104</td>\n",
       "            <td>1</td>\n",
       "            <td></td>\n",
       "            <td>1</td>\n",
       "            <td>2020-01-08 21:00:29</td>\n",
       "        </tr>\n",
       "        <tr>\n",
       "            <td>6</td>\n",
       "            <td>101</td>\n",
       "            <td>2</td>\n",
       "            <td></td>\n",
       "            <td></td>\n",
       "            <td>2020-01-08 21:03:13</td>\n",
       "        </tr>\n",
       "        <tr>\n",
       "            <td>7</td>\n",
       "            <td>105</td>\n",
       "            <td>2</td>\n",
       "            <td></td>\n",
       "            <td>1</td>\n",
       "            <td>2020-01-08 21:20:29</td>\n",
       "        </tr>\n",
       "        <tr>\n",
       "            <td>8</td>\n",
       "            <td>102</td>\n",
       "            <td>1</td>\n",
       "            <td></td>\n",
       "            <td></td>\n",
       "            <td>2020-01-09 23:54:33</td>\n",
       "        </tr>\n",
       "        <tr>\n",
       "            <td>9</td>\n",
       "            <td>103</td>\n",
       "            <td>1</td>\n",
       "            <td>4</td>\n",
       "            <td>1, 5</td>\n",
       "            <td>2020-01-10 11:22:59</td>\n",
       "        </tr>\n",
       "        <tr>\n",
       "            <td>10</td>\n",
       "            <td>104</td>\n",
       "            <td>1</td>\n",
       "            <td></td>\n",
       "            <td></td>\n",
       "            <td>2020-01-11 18:34:49</td>\n",
       "        </tr>\n",
       "        <tr>\n",
       "            <td>10</td>\n",
       "            <td>104</td>\n",
       "            <td>1</td>\n",
       "            <td>2, 6</td>\n",
       "            <td>1, 4</td>\n",
       "            <td>2020-01-11 18:34:49</td>\n",
       "        </tr>\n",
       "    </tbody>\n",
       "</table>"
      ],
      "text/plain": [
       "[(1, 101, 1, '', '', '2020-01-01 18:05:02'),\n",
       " (2, 101, 1, '', '', '2020-01-01 19:00:52'),\n",
       " (3, 102, 1, '', '', '2020-01-02 23:51:23'),\n",
       " (3, 102, 2, '', '', '2020-01-02 23:51:23'),\n",
       " (4, 103, 1, '4', '', '2020-01-04 13:23:46'),\n",
       " (4, 103, 1, '4', '', '2020-01-04 13:23:46'),\n",
       " (4, 103, 2, '4', '', '2020-01-04 13:23:46'),\n",
       " (5, 104, 1, '', '1', '2020-01-08 21:00:29'),\n",
       " (6, 101, 2, '', '', '2020-01-08 21:03:13'),\n",
       " (7, 105, 2, '', '1', '2020-01-08 21:20:29'),\n",
       " (8, 102, 1, '', '', '2020-01-09 23:54:33'),\n",
       " (9, 103, 1, '4', '1, 5', '2020-01-10 11:22:59'),\n",
       " (10, 104, 1, '', '', '2020-01-11 18:34:49'),\n",
       " (10, 104, 1, '2, 6', '1, 4', '2020-01-11 18:34:49')]"
      ]
     },
     "execution_count": 87,
     "metadata": {},
     "output_type": "execute_result"
    }
   ],
   "source": [
    "%%sql\n",
    "SELECT *\n",
    "FROM customer_orders"
   ]
  },
  {
   "cell_type": "markdown",
   "id": "61bc54c7",
   "metadata": {},
   "source": [
    "#### Clean customer orders table\n",
    "* Replace Null values with blanks in Exclusions column"
   ]
  },
  {
   "cell_type": "code",
   "execution_count": 88,
   "id": "c1faa8c4",
   "metadata": {},
   "outputs": [
    {
     "name": "stdout",
     "output_type": "stream",
     "text": [
      " * sqlite://\n",
      "14 rows affected.\n"
     ]
    },
    {
     "data": {
      "text/plain": [
       "[]"
      ]
     },
     "execution_count": 88,
     "metadata": {},
     "output_type": "execute_result"
    }
   ],
   "source": [
    "%%sql\n",
    "UPDATE customer_orders\n",
    "SET exclusions = \n",
    "    CASE \n",
    "        WHEN exclusions = 'null' THEN ''\n",
    "        ELSE exclusions\n",
    "    END;"
   ]
  },
  {
   "cell_type": "markdown",
   "id": "22a9142e",
   "metadata": {},
   "source": [
    "* Replace Null values with blanks in Extras column"
   ]
  },
  {
   "cell_type": "code",
   "execution_count": 89,
   "id": "ce3523a4",
   "metadata": {},
   "outputs": [
    {
     "name": "stdout",
     "output_type": "stream",
     "text": [
      " * sqlite://\n",
      "14 rows affected.\n"
     ]
    },
    {
     "data": {
      "text/plain": [
       "[]"
      ]
     },
     "execution_count": 89,
     "metadata": {},
     "output_type": "execute_result"
    }
   ],
   "source": [
    "%%sql\n",
    "UPDATE customer_orders\n",
    "SET extras = \n",
    "    CASE\n",
    "      WHEN extras IS NULL or extras = 'null' THEN ''\n",
    "      ELSE extras\n",
    "END;"
   ]
  },
  {
   "cell_type": "code",
   "execution_count": 90,
   "id": "482891b4",
   "metadata": {},
   "outputs": [
    {
     "name": "stdout",
     "output_type": "stream",
     "text": [
      " * sqlite://\n",
      "Done.\n"
     ]
    },
    {
     "data": {
      "text/html": [
       "<table>\n",
       "    <thead>\n",
       "        <tr>\n",
       "            <th>order_id</th>\n",
       "            <th>customer_id</th>\n",
       "            <th>pizza_id</th>\n",
       "            <th>exclusions</th>\n",
       "            <th>extras</th>\n",
       "            <th>order_time</th>\n",
       "            <th>order_id_1</th>\n",
       "            <th>runner_id</th>\n",
       "            <th>pickup_time</th>\n",
       "            <th>distance</th>\n",
       "            <th>duration</th>\n",
       "            <th>cancellation</th>\n",
       "        </tr>\n",
       "    </thead>\n",
       "    <tbody>\n",
       "        <tr>\n",
       "            <td>1</td>\n",
       "            <td>101</td>\n",
       "            <td>1</td>\n",
       "            <td></td>\n",
       "            <td></td>\n",
       "            <td>2020-01-01 18:05:02</td>\n",
       "            <td>1</td>\n",
       "            <td>1</td>\n",
       "            <td>2020-01-01 18:15:34</td>\n",
       "            <td>20km</td>\n",
       "            <td>32 minutes</td>\n",
       "            <td></td>\n",
       "        </tr>\n",
       "        <tr>\n",
       "            <td>2</td>\n",
       "            <td>101</td>\n",
       "            <td>1</td>\n",
       "            <td></td>\n",
       "            <td></td>\n",
       "            <td>2020-01-01 19:00:52</td>\n",
       "            <td>2</td>\n",
       "            <td>1</td>\n",
       "            <td>2020-01-01 19:10:54</td>\n",
       "            <td>20km</td>\n",
       "            <td>27 minutes</td>\n",
       "            <td></td>\n",
       "        </tr>\n",
       "        <tr>\n",
       "            <td>6</td>\n",
       "            <td>101</td>\n",
       "            <td>2</td>\n",
       "            <td></td>\n",
       "            <td></td>\n",
       "            <td>2020-01-08 21:03:13</td>\n",
       "            <td>6</td>\n",
       "            <td>3</td>\n",
       "            <td>null</td>\n",
       "            <td>null</td>\n",
       "            <td>null</td>\n",
       "            <td>cancelled</td>\n",
       "        </tr>\n",
       "        <tr>\n",
       "            <td>3</td>\n",
       "            <td>102</td>\n",
       "            <td>1</td>\n",
       "            <td></td>\n",
       "            <td></td>\n",
       "            <td>2020-01-02 23:51:23</td>\n",
       "            <td>3</td>\n",
       "            <td>1</td>\n",
       "            <td>2020-01-03 00:12:37</td>\n",
       "            <td>13.4km</td>\n",
       "            <td>20 mins</td>\n",
       "            <td></td>\n",
       "        </tr>\n",
       "        <tr>\n",
       "            <td>3</td>\n",
       "            <td>102</td>\n",
       "            <td>2</td>\n",
       "            <td></td>\n",
       "            <td></td>\n",
       "            <td>2020-01-02 23:51:23</td>\n",
       "            <td>3</td>\n",
       "            <td>1</td>\n",
       "            <td>2020-01-03 00:12:37</td>\n",
       "            <td>13.4km</td>\n",
       "            <td>20 mins</td>\n",
       "            <td></td>\n",
       "        </tr>\n",
       "        <tr>\n",
       "            <td>8</td>\n",
       "            <td>102</td>\n",
       "            <td>1</td>\n",
       "            <td></td>\n",
       "            <td></td>\n",
       "            <td>2020-01-09 23:54:33</td>\n",
       "            <td>8</td>\n",
       "            <td>2</td>\n",
       "            <td>2020-01-10 00:15:02</td>\n",
       "            <td>23.4 km</td>\n",
       "            <td>15 minute</td>\n",
       "            <td></td>\n",
       "        </tr>\n",
       "        <tr>\n",
       "            <td>4</td>\n",
       "            <td>103</td>\n",
       "            <td>1</td>\n",
       "            <td>4</td>\n",
       "            <td></td>\n",
       "            <td>2020-01-04 13:23:46</td>\n",
       "            <td>4</td>\n",
       "            <td>2</td>\n",
       "            <td>2020-01-04 13:53:03</td>\n",
       "            <td>23.4</td>\n",
       "            <td>40</td>\n",
       "            <td></td>\n",
       "        </tr>\n",
       "        <tr>\n",
       "            <td>4</td>\n",
       "            <td>103</td>\n",
       "            <td>1</td>\n",
       "            <td>4</td>\n",
       "            <td></td>\n",
       "            <td>2020-01-04 13:23:46</td>\n",
       "            <td>4</td>\n",
       "            <td>2</td>\n",
       "            <td>2020-01-04 13:53:03</td>\n",
       "            <td>23.4</td>\n",
       "            <td>40</td>\n",
       "            <td></td>\n",
       "        </tr>\n",
       "        <tr>\n",
       "            <td>4</td>\n",
       "            <td>103</td>\n",
       "            <td>2</td>\n",
       "            <td>4</td>\n",
       "            <td></td>\n",
       "            <td>2020-01-04 13:23:46</td>\n",
       "            <td>4</td>\n",
       "            <td>2</td>\n",
       "            <td>2020-01-04 13:53:03</td>\n",
       "            <td>23.4</td>\n",
       "            <td>40</td>\n",
       "            <td></td>\n",
       "        </tr>\n",
       "        <tr>\n",
       "            <td>9</td>\n",
       "            <td>103</td>\n",
       "            <td>1</td>\n",
       "            <td>4</td>\n",
       "            <td>1, 5</td>\n",
       "            <td>2020-01-10 11:22:59</td>\n",
       "            <td>9</td>\n",
       "            <td>2</td>\n",
       "            <td>null</td>\n",
       "            <td>null</td>\n",
       "            <td>null</td>\n",
       "            <td>cancelled</td>\n",
       "        </tr>\n",
       "        <tr>\n",
       "            <td>5</td>\n",
       "            <td>104</td>\n",
       "            <td>1</td>\n",
       "            <td></td>\n",
       "            <td>1</td>\n",
       "            <td>2020-01-08 21:00:29</td>\n",
       "            <td>5</td>\n",
       "            <td>3</td>\n",
       "            <td>2020-01-08 21:10:57</td>\n",
       "            <td>10</td>\n",
       "            <td>15</td>\n",
       "            <td></td>\n",
       "        </tr>\n",
       "        <tr>\n",
       "            <td>10</td>\n",
       "            <td>104</td>\n",
       "            <td>1</td>\n",
       "            <td></td>\n",
       "            <td></td>\n",
       "            <td>2020-01-11 18:34:49</td>\n",
       "            <td>10</td>\n",
       "            <td>1</td>\n",
       "            <td>2020-01-11 18:50:20</td>\n",
       "            <td>10km</td>\n",
       "            <td>10minutes</td>\n",
       "            <td></td>\n",
       "        </tr>\n",
       "        <tr>\n",
       "            <td>10</td>\n",
       "            <td>104</td>\n",
       "            <td>1</td>\n",
       "            <td>2, 6</td>\n",
       "            <td>1, 4</td>\n",
       "            <td>2020-01-11 18:34:49</td>\n",
       "            <td>10</td>\n",
       "            <td>1</td>\n",
       "            <td>2020-01-11 18:50:20</td>\n",
       "            <td>10km</td>\n",
       "            <td>10minutes</td>\n",
       "            <td></td>\n",
       "        </tr>\n",
       "        <tr>\n",
       "            <td>7</td>\n",
       "            <td>105</td>\n",
       "            <td>2</td>\n",
       "            <td></td>\n",
       "            <td>1</td>\n",
       "            <td>2020-01-08 21:20:29</td>\n",
       "            <td>7</td>\n",
       "            <td>2</td>\n",
       "            <td>2020-01-08 21:30:45</td>\n",
       "            <td>25km</td>\n",
       "            <td>25mins</td>\n",
       "            <td></td>\n",
       "        </tr>\n",
       "    </tbody>\n",
       "</table>"
      ],
      "text/plain": [
       "[(1, 101, 1, '', '', '2020-01-01 18:05:02', 1, 1, '2020-01-01 18:15:34', '20km', '32 minutes', ''),\n",
       " (2, 101, 1, '', '', '2020-01-01 19:00:52', 2, 1, '2020-01-01 19:10:54', '20km', '27 minutes', ''),\n",
       " (6, 101, 2, '', '', '2020-01-08 21:03:13', 6, 3, 'null', 'null', 'null', 'cancelled'),\n",
       " (3, 102, 1, '', '', '2020-01-02 23:51:23', 3, 1, '2020-01-03 00:12:37', '13.4km', '20 mins', ''),\n",
       " (3, 102, 2, '', '', '2020-01-02 23:51:23', 3, 1, '2020-01-03 00:12:37', '13.4km', '20 mins', ''),\n",
       " (8, 102, 1, '', '', '2020-01-09 23:54:33', 8, 2, '2020-01-10 00:15:02', '23.4 km', '15 minute', ''),\n",
       " (4, 103, 1, '4', '', '2020-01-04 13:23:46', 4, 2, '2020-01-04 13:53:03', '23.4', '40', ''),\n",
       " (4, 103, 1, '4', '', '2020-01-04 13:23:46', 4, 2, '2020-01-04 13:53:03', '23.4', '40', ''),\n",
       " (4, 103, 2, '4', '', '2020-01-04 13:23:46', 4, 2, '2020-01-04 13:53:03', '23.4', '40', ''),\n",
       " (9, 103, 1, '4', '1, 5', '2020-01-10 11:22:59', 9, 2, 'null', 'null', 'null', 'cancelled'),\n",
       " (5, 104, 1, '', '1', '2020-01-08 21:00:29', 5, 3, '2020-01-08 21:10:57', '10', '15', ''),\n",
       " (10, 104, 1, '', '', '2020-01-11 18:34:49', 10, 1, '2020-01-11 18:50:20', '10km', '10minutes', ''),\n",
       " (10, 104, 1, '2, 6', '1, 4', '2020-01-11 18:34:49', 10, 1, '2020-01-11 18:50:20', '10km', '10minutes', ''),\n",
       " (7, 105, 2, '', '1', '2020-01-08 21:20:29', 7, 2, '2020-01-08 21:30:45', '25km', '25mins', '')]"
      ]
     },
     "execution_count": 90,
     "metadata": {},
     "output_type": "execute_result"
    }
   ],
   "source": [
    "%%sql\n",
    "SELECT *\n",
    "FROM customer_orders as co\n",
    "JOIN runner_orders as ro\n",
    "ON co.order_id = ro.order_id\n",
    "ORDER BY 2"
   ]
  },
  {
   "cell_type": "code",
   "execution_count": 91,
   "id": "fa91f218",
   "metadata": {},
   "outputs": [
    {
     "name": "stdout",
     "output_type": "stream",
     "text": [
      " * sqlite://\n",
      "Done.\n"
     ]
    },
    {
     "data": {
      "text/html": [
       "<table>\n",
       "    <thead>\n",
       "        <tr>\n",
       "            <th>customer_id</th>\n",
       "            <th>no_change</th>\n",
       "            <th>has_change</th>\n",
       "        </tr>\n",
       "    </thead>\n",
       "    <tbody>\n",
       "        <tr>\n",
       "            <td>101</td>\n",
       "            <td>2</td>\n",
       "            <td>0</td>\n",
       "        </tr>\n",
       "        <tr>\n",
       "            <td>102</td>\n",
       "            <td>3</td>\n",
       "            <td>0</td>\n",
       "        </tr>\n",
       "        <tr>\n",
       "            <td>103</td>\n",
       "            <td>0</td>\n",
       "            <td>3</td>\n",
       "        </tr>\n",
       "        <tr>\n",
       "            <td>104</td>\n",
       "            <td>1</td>\n",
       "            <td>2</td>\n",
       "        </tr>\n",
       "        <tr>\n",
       "            <td>105</td>\n",
       "            <td>0</td>\n",
       "            <td>1</td>\n",
       "        </tr>\n",
       "    </tbody>\n",
       "</table>"
      ],
      "text/plain": [
       "[(101, 2, 0), (102, 3, 0), (103, 0, 3), (104, 1, 2), (105, 0, 1)]"
      ]
     },
     "execution_count": 91,
     "metadata": {},
     "output_type": "execute_result"
    }
   ],
   "source": [
    "%%sql\n",
    "SELECT \n",
    "    co.customer_id,\n",
    "    COUNT(CASE WHEN co.exclusions = '' AND co.extras = '' THEN 1 END) as no_change,\n",
    "    COUNT(CASE WHEN co.exclusions != '' OR co.extras != '' THEN 1 END) as has_change\n",
    "FROM customer_orders as co\n",
    "JOIN runner_orders as ro\n",
    "ON co.order_id = ro.order_id\n",
    "WHERE ro.cancellation = ''\n",
    "GROUP BY 1"
   ]
  },
  {
   "cell_type": "markdown",
   "id": "2ec74fba",
   "metadata": {},
   "source": [
    "#### Observations\n",
    "* Customer 101 had 2 pizzas delivered without changes and 0 with changes\n",
    "* Customer 102 had 3 pizzas delivered without changes and 0 with changes\n",
    "* Customer 103 had 3 pizzas delivered with changes and 0 without any changes\n",
    "* Customer 104 had 1 pizza delivered without any changes and 2 with changes\n",
    "* Customer 105 had 1 pizza deliverd with a change and 0 without any"
   ]
  },
  {
   "cell_type": "markdown",
   "id": "3cb1f075",
   "metadata": {},
   "source": [
    "### 8. How many pizzas were delivered that had both exclusions and extras?"
   ]
  },
  {
   "cell_type": "code",
   "execution_count": 92,
   "id": "84b8fceb",
   "metadata": {},
   "outputs": [
    {
     "name": "stdout",
     "output_type": "stream",
     "text": [
      " * sqlite://\n",
      "Done.\n"
     ]
    },
    {
     "data": {
      "text/html": [
       "<table>\n",
       "    <thead>\n",
       "        <tr>\n",
       "            <th>order_id</th>\n",
       "            <th>customer_id</th>\n",
       "            <th>pizza_id</th>\n",
       "            <th>exclusions</th>\n",
       "            <th>extras</th>\n",
       "            <th>order_time</th>\n",
       "        </tr>\n",
       "    </thead>\n",
       "    <tbody>\n",
       "        <tr>\n",
       "            <td>9</td>\n",
       "            <td>103</td>\n",
       "            <td>1</td>\n",
       "            <td>4</td>\n",
       "            <td>1, 5</td>\n",
       "            <td>2020-01-10 11:22:59</td>\n",
       "        </tr>\n",
       "        <tr>\n",
       "            <td>10</td>\n",
       "            <td>104</td>\n",
       "            <td>1</td>\n",
       "            <td>2, 6</td>\n",
       "            <td>1, 4</td>\n",
       "            <td>2020-01-11 18:34:49</td>\n",
       "        </tr>\n",
       "    </tbody>\n",
       "</table>"
      ],
      "text/plain": [
       "[(9, 103, 1, '4', '1, 5', '2020-01-10 11:22:59'),\n",
       " (10, 104, 1, '2, 6', '1, 4', '2020-01-11 18:34:49')]"
      ]
     },
     "execution_count": 92,
     "metadata": {},
     "output_type": "execute_result"
    }
   ],
   "source": [
    "%%sql\n",
    "SELECT *\n",
    "FROM customer_orders\n",
    "WHERE exclusions != '' AND extras != ''"
   ]
  },
  {
   "cell_type": "code",
   "execution_count": 93,
   "id": "5722ca48",
   "metadata": {},
   "outputs": [
    {
     "name": "stdout",
     "output_type": "stream",
     "text": [
      " * sqlite://\n",
      "Done.\n"
     ]
    },
    {
     "data": {
      "text/html": [
       "<table>\n",
       "    <thead>\n",
       "        <tr>\n",
       "            <th>exclusions_and_extras</th>\n",
       "        </tr>\n",
       "    </thead>\n",
       "    <tbody>\n",
       "        <tr>\n",
       "            <td>1</td>\n",
       "        </tr>\n",
       "    </tbody>\n",
       "</table>"
      ],
      "text/plain": [
       "[(1,)]"
      ]
     },
     "execution_count": 93,
     "metadata": {},
     "output_type": "execute_result"
    }
   ],
   "source": [
    "%%sql\n",
    "SELECT\n",
    "    COUNT(*) as exclusions_and_extras\n",
    "FROM customer_orders as co\n",
    "JOIN runner_orders as ro\n",
    "ON co.order_id = ro.order_id\n",
    "WHERE exclusions != '' AND extras != '' AND ro.cancellation = ''"
   ]
  },
  {
   "cell_type": "markdown",
   "id": "f46963c2",
   "metadata": {},
   "source": [
    "#### Observations\n",
    "* Only 1 pizza was delivered that had both exclusions and extras\n",
    "* Another pizza with exclusions and extras was ordered but was cancelled before it was delivered"
   ]
  },
  {
   "cell_type": "markdown",
   "id": "2158133d",
   "metadata": {},
   "source": [
    "### 9. What was the total volume of pizzas ordered for each hour of the day?"
   ]
  },
  {
   "cell_type": "code",
   "execution_count": 94,
   "id": "bbe8543e",
   "metadata": {},
   "outputs": [
    {
     "name": "stdout",
     "output_type": "stream",
     "text": [
      " * sqlite://\n",
      "Done.\n"
     ]
    },
    {
     "data": {
      "text/html": [
       "<table>\n",
       "    <thead>\n",
       "        <tr>\n",
       "            <th>hour</th>\n",
       "            <th>pizzas_ordered</th>\n",
       "        </tr>\n",
       "    </thead>\n",
       "    <tbody>\n",
       "        <tr>\n",
       "            <td>11</td>\n",
       "            <td>1</td>\n",
       "        </tr>\n",
       "        <tr>\n",
       "            <td>13</td>\n",
       "            <td>3</td>\n",
       "        </tr>\n",
       "        <tr>\n",
       "            <td>18</td>\n",
       "            <td>3</td>\n",
       "        </tr>\n",
       "        <tr>\n",
       "            <td>19</td>\n",
       "            <td>1</td>\n",
       "        </tr>\n",
       "        <tr>\n",
       "            <td>21</td>\n",
       "            <td>3</td>\n",
       "        </tr>\n",
       "        <tr>\n",
       "            <td>23</td>\n",
       "            <td>3</td>\n",
       "        </tr>\n",
       "    </tbody>\n",
       "</table>"
      ],
      "text/plain": [
       "[('11', 1), ('13', 3), ('18', 3), ('19', 1), ('21', 3), ('23', 3)]"
      ]
     },
     "execution_count": 94,
     "metadata": {},
     "output_type": "execute_result"
    }
   ],
   "source": [
    "%%sql\n",
    "SELECT \n",
    "    strftime('%H', order_time) as hour,\n",
    "    COUNT(*) as pizzas_ordered\n",
    "FROM customer_orders\n",
    "GROUP BY 1"
   ]
  },
  {
   "cell_type": "markdown",
   "id": "96d5c6ad",
   "metadata": {},
   "source": [
    "#### Observations\n",
    "* 1 pizza was ordered between 11 am and 12 pm\n",
    "* 3 pizzas were ordered between 1 and 2 pm \n",
    "* 3 pizzas were ordered between 6 and 7 pm\n",
    "* 1 pizza was ordered between 7 and 8 pm\n",
    "* 3 pizzas were ordered between 9 and 10 pm\n",
    "* 2 pizzas were ordered between 11 and 12 pm"
   ]
  },
  {
   "cell_type": "markdown",
   "id": "01342c43",
   "metadata": {},
   "source": [
    "### 10. What was the volume of orders for each day of the week?"
   ]
  },
  {
   "cell_type": "code",
   "execution_count": 95,
   "id": "da2aeafe",
   "metadata": {},
   "outputs": [
    {
     "name": "stdout",
     "output_type": "stream",
     "text": [
      " * sqlite://\n",
      "Done.\n"
     ]
    },
    {
     "data": {
      "text/html": [
       "<table>\n",
       "    <thead>\n",
       "        <tr>\n",
       "            <th>order_id</th>\n",
       "            <th>customer_id</th>\n",
       "            <th>pizza_id</th>\n",
       "            <th>exclusions</th>\n",
       "            <th>extras</th>\n",
       "            <th>order_time</th>\n",
       "        </tr>\n",
       "    </thead>\n",
       "    <tbody>\n",
       "        <tr>\n",
       "            <td>1</td>\n",
       "            <td>101</td>\n",
       "            <td>1</td>\n",
       "            <td></td>\n",
       "            <td></td>\n",
       "            <td>2020-01-01 18:05:02</td>\n",
       "        </tr>\n",
       "        <tr>\n",
       "            <td>2</td>\n",
       "            <td>101</td>\n",
       "            <td>1</td>\n",
       "            <td></td>\n",
       "            <td></td>\n",
       "            <td>2020-01-01 19:00:52</td>\n",
       "        </tr>\n",
       "        <tr>\n",
       "            <td>3</td>\n",
       "            <td>102</td>\n",
       "            <td>1</td>\n",
       "            <td></td>\n",
       "            <td></td>\n",
       "            <td>2020-01-02 23:51:23</td>\n",
       "        </tr>\n",
       "        <tr>\n",
       "            <td>3</td>\n",
       "            <td>102</td>\n",
       "            <td>2</td>\n",
       "            <td></td>\n",
       "            <td></td>\n",
       "            <td>2020-01-02 23:51:23</td>\n",
       "        </tr>\n",
       "        <tr>\n",
       "            <td>4</td>\n",
       "            <td>103</td>\n",
       "            <td>1</td>\n",
       "            <td>4</td>\n",
       "            <td></td>\n",
       "            <td>2020-01-04 13:23:46</td>\n",
       "        </tr>\n",
       "        <tr>\n",
       "            <td>4</td>\n",
       "            <td>103</td>\n",
       "            <td>1</td>\n",
       "            <td>4</td>\n",
       "            <td></td>\n",
       "            <td>2020-01-04 13:23:46</td>\n",
       "        </tr>\n",
       "        <tr>\n",
       "            <td>4</td>\n",
       "            <td>103</td>\n",
       "            <td>2</td>\n",
       "            <td>4</td>\n",
       "            <td></td>\n",
       "            <td>2020-01-04 13:23:46</td>\n",
       "        </tr>\n",
       "        <tr>\n",
       "            <td>5</td>\n",
       "            <td>104</td>\n",
       "            <td>1</td>\n",
       "            <td></td>\n",
       "            <td>1</td>\n",
       "            <td>2020-01-08 21:00:29</td>\n",
       "        </tr>\n",
       "        <tr>\n",
       "            <td>6</td>\n",
       "            <td>101</td>\n",
       "            <td>2</td>\n",
       "            <td></td>\n",
       "            <td></td>\n",
       "            <td>2020-01-08 21:03:13</td>\n",
       "        </tr>\n",
       "        <tr>\n",
       "            <td>7</td>\n",
       "            <td>105</td>\n",
       "            <td>2</td>\n",
       "            <td></td>\n",
       "            <td>1</td>\n",
       "            <td>2020-01-08 21:20:29</td>\n",
       "        </tr>\n",
       "        <tr>\n",
       "            <td>8</td>\n",
       "            <td>102</td>\n",
       "            <td>1</td>\n",
       "            <td></td>\n",
       "            <td></td>\n",
       "            <td>2020-01-09 23:54:33</td>\n",
       "        </tr>\n",
       "        <tr>\n",
       "            <td>9</td>\n",
       "            <td>103</td>\n",
       "            <td>1</td>\n",
       "            <td>4</td>\n",
       "            <td>1, 5</td>\n",
       "            <td>2020-01-10 11:22:59</td>\n",
       "        </tr>\n",
       "        <tr>\n",
       "            <td>10</td>\n",
       "            <td>104</td>\n",
       "            <td>1</td>\n",
       "            <td></td>\n",
       "            <td></td>\n",
       "            <td>2020-01-11 18:34:49</td>\n",
       "        </tr>\n",
       "        <tr>\n",
       "            <td>10</td>\n",
       "            <td>104</td>\n",
       "            <td>1</td>\n",
       "            <td>2, 6</td>\n",
       "            <td>1, 4</td>\n",
       "            <td>2020-01-11 18:34:49</td>\n",
       "        </tr>\n",
       "    </tbody>\n",
       "</table>"
      ],
      "text/plain": [
       "[(1, 101, 1, '', '', '2020-01-01 18:05:02'),\n",
       " (2, 101, 1, '', '', '2020-01-01 19:00:52'),\n",
       " (3, 102, 1, '', '', '2020-01-02 23:51:23'),\n",
       " (3, 102, 2, '', '', '2020-01-02 23:51:23'),\n",
       " (4, 103, 1, '4', '', '2020-01-04 13:23:46'),\n",
       " (4, 103, 1, '4', '', '2020-01-04 13:23:46'),\n",
       " (4, 103, 2, '4', '', '2020-01-04 13:23:46'),\n",
       " (5, 104, 1, '', '1', '2020-01-08 21:00:29'),\n",
       " (6, 101, 2, '', '', '2020-01-08 21:03:13'),\n",
       " (7, 105, 2, '', '1', '2020-01-08 21:20:29'),\n",
       " (8, 102, 1, '', '', '2020-01-09 23:54:33'),\n",
       " (9, 103, 1, '4', '1, 5', '2020-01-10 11:22:59'),\n",
       " (10, 104, 1, '', '', '2020-01-11 18:34:49'),\n",
       " (10, 104, 1, '2, 6', '1, 4', '2020-01-11 18:34:49')]"
      ]
     },
     "execution_count": 95,
     "metadata": {},
     "output_type": "execute_result"
    }
   ],
   "source": [
    "%%sql\n",
    "SELECT *\n",
    "FROM customer_orders"
   ]
  },
  {
   "cell_type": "code",
   "execution_count": 96,
   "id": "3da879ab",
   "metadata": {},
   "outputs": [
    {
     "name": "stdout",
     "output_type": "stream",
     "text": [
      " * sqlite://\n",
      "Done.\n"
     ]
    },
    {
     "data": {
      "text/html": [
       "<table>\n",
       "    <thead>\n",
       "        <tr>\n",
       "            <th>day_of_week</th>\n",
       "            <th>number_of_orders</th>\n",
       "        </tr>\n",
       "    </thead>\n",
       "    <tbody>\n",
       "        <tr>\n",
       "            <td>3</td>\n",
       "            <td>5</td>\n",
       "        </tr>\n",
       "        <tr>\n",
       "            <td>4</td>\n",
       "            <td>2</td>\n",
       "        </tr>\n",
       "        <tr>\n",
       "            <td>5</td>\n",
       "            <td>1</td>\n",
       "        </tr>\n",
       "        <tr>\n",
       "            <td>6</td>\n",
       "            <td>2</td>\n",
       "        </tr>\n",
       "    </tbody>\n",
       "</table>"
      ],
      "text/plain": [
       "[('3', 5), ('4', 2), ('5', 1), ('6', 2)]"
      ]
     },
     "execution_count": 96,
     "metadata": {},
     "output_type": "execute_result"
    }
   ],
   "source": [
    "%%sql\n",
    "SELECT \n",
    "    strftime('%w', order_time) as day_of_week,\n",
    "    COUNT(DISTINCT order_id) as number_of_orders\n",
    "FROM customer_orders\n",
    "GROUP BY 1"
   ]
  },
  {
   "cell_type": "markdown",
   "id": "dc1b33bb",
   "metadata": {},
   "source": [
    "##### Notes\n",
    "* Day of Week = 3 (Wednesday)"
   ]
  },
  {
   "cell_type": "markdown",
   "id": "e6e7913e",
   "metadata": {},
   "source": [
    "#### Observations\n",
    "* 5 orders on Wednesday\n",
    "* 2 on Thursday \n",
    "* 1 on Friday\n",
    "* 2 on Saturday"
   ]
  },
  {
   "cell_type": "code",
   "execution_count": null,
   "id": "7b387935",
   "metadata": {},
   "outputs": [],
   "source": []
  },
  {
   "cell_type": "markdown",
   "id": "fd0d77bf",
   "metadata": {},
   "source": [
    "## Part 2: Runner and Customer Experience"
   ]
  },
  {
   "cell_type": "markdown",
   "id": "6fc433c4",
   "metadata": {},
   "source": [
    "### 1. How many runners signed up for each one week period? (i.e. week starts 2021-01-01)"
   ]
  },
  {
   "cell_type": "code",
   "execution_count": 97,
   "id": "6b9e5bc6",
   "metadata": {},
   "outputs": [
    {
     "name": "stdout",
     "output_type": "stream",
     "text": [
      " * sqlite://\n",
      "Done.\n"
     ]
    },
    {
     "data": {
      "text/html": [
       "<table>\n",
       "    <thead>\n",
       "        <tr>\n",
       "            <th>runner_id</th>\n",
       "            <th>registration_date</th>\n",
       "        </tr>\n",
       "    </thead>\n",
       "    <tbody>\n",
       "        <tr>\n",
       "            <td>1</td>\n",
       "            <td>2021-01-01</td>\n",
       "        </tr>\n",
       "        <tr>\n",
       "            <td>2</td>\n",
       "            <td>2021-01-03</td>\n",
       "        </tr>\n",
       "        <tr>\n",
       "            <td>3</td>\n",
       "            <td>2021-01-08</td>\n",
       "        </tr>\n",
       "        <tr>\n",
       "            <td>4</td>\n",
       "            <td>2021-01-15</td>\n",
       "        </tr>\n",
       "    </tbody>\n",
       "</table>"
      ],
      "text/plain": [
       "[(1, '2021-01-01'), (2, '2021-01-03'), (3, '2021-01-08'), (4, '2021-01-15')]"
      ]
     },
     "execution_count": 97,
     "metadata": {},
     "output_type": "execute_result"
    }
   ],
   "source": [
    "%%sql\n",
    "SELECT *\n",
    "FROM runners"
   ]
  },
  {
   "cell_type": "code",
   "execution_count": 98,
   "id": "80b4091e",
   "metadata": {},
   "outputs": [
    {
     "name": "stdout",
     "output_type": "stream",
     "text": [
      " * sqlite://\n",
      "Done.\n"
     ]
    },
    {
     "data": {
      "text/html": [
       "<table>\n",
       "    <thead>\n",
       "        <tr>\n",
       "            <th>week_start</th>\n",
       "            <th>total_runners</th>\n",
       "        </tr>\n",
       "    </thead>\n",
       "    <tbody>\n",
       "        <tr>\n",
       "            <td>2021-01-01</td>\n",
       "            <td>2</td>\n",
       "        </tr>\n",
       "        <tr>\n",
       "            <td>2021-01-08</td>\n",
       "            <td>1</td>\n",
       "        </tr>\n",
       "        <tr>\n",
       "            <td>2021-01-15</td>\n",
       "            <td>1</td>\n",
       "        </tr>\n",
       "    </tbody>\n",
       "</table>"
      ],
      "text/plain": [
       "[('2021-01-01', 2), ('2021-01-08', 1), ('2021-01-15', 1)]"
      ]
     },
     "execution_count": 98,
     "metadata": {},
     "output_type": "execute_result"
    }
   ],
   "source": [
    "%%sql\n",
    "SELECT \n",
    "  strftime('%Y-%m-%d', registration_date, 'weekday 4', '-6 days') AS week_start,\n",
    "  COUNT(*) AS total_runners\n",
    "FROM runners\n",
    "GROUP BY 1\n",
    "ORDER BY 2 DESC, 1"
   ]
  },
  {
   "cell_type": "markdown",
   "id": "92a2f92b",
   "metadata": {},
   "source": [
    "#### Observations\n",
    "* 2 runners started week of 2021-01-01\n",
    "* 1 runner started week of 2021-01-08\n",
    "* 1 runner started week of 2021-01-15"
   ]
  },
  {
   "cell_type": "markdown",
   "id": "c0691e60",
   "metadata": {},
   "source": [
    "### 2. What was the average time in minutes it took for each runner to pickup the order?"
   ]
  },
  {
   "cell_type": "code",
   "execution_count": 99,
   "id": "8bf3c84c",
   "metadata": {},
   "outputs": [
    {
     "name": "stdout",
     "output_type": "stream",
     "text": [
      " * sqlite://\n",
      "Done.\n"
     ]
    },
    {
     "data": {
      "text/html": [
       "<table>\n",
       "    <thead>\n",
       "        <tr>\n",
       "            <th>order_id</th>\n",
       "            <th>customer_id</th>\n",
       "            <th>pizza_id</th>\n",
       "            <th>exclusions</th>\n",
       "            <th>extras</th>\n",
       "            <th>order_time</th>\n",
       "            <th>order_id_1</th>\n",
       "            <th>runner_id</th>\n",
       "            <th>pickup_time</th>\n",
       "            <th>distance</th>\n",
       "            <th>duration</th>\n",
       "            <th>cancellation</th>\n",
       "            <th>time_to_pickup</th>\n",
       "        </tr>\n",
       "    </thead>\n",
       "    <tbody>\n",
       "        <tr>\n",
       "            <td>1</td>\n",
       "            <td>101</td>\n",
       "            <td>1</td>\n",
       "            <td></td>\n",
       "            <td></td>\n",
       "            <td>2020-01-01 18:05:02</td>\n",
       "            <td>1</td>\n",
       "            <td>1</td>\n",
       "            <td>2020-01-01 18:15:34</td>\n",
       "            <td>20km</td>\n",
       "            <td>32 minutes</td>\n",
       "            <td></td>\n",
       "            <td>10.53</td>\n",
       "        </tr>\n",
       "        <tr>\n",
       "            <td>2</td>\n",
       "            <td>101</td>\n",
       "            <td>1</td>\n",
       "            <td></td>\n",
       "            <td></td>\n",
       "            <td>2020-01-01 19:00:52</td>\n",
       "            <td>2</td>\n",
       "            <td>1</td>\n",
       "            <td>2020-01-01 19:10:54</td>\n",
       "            <td>20km</td>\n",
       "            <td>27 minutes</td>\n",
       "            <td></td>\n",
       "            <td>10.03</td>\n",
       "        </tr>\n",
       "        <tr>\n",
       "            <td>3</td>\n",
       "            <td>102</td>\n",
       "            <td>1</td>\n",
       "            <td></td>\n",
       "            <td></td>\n",
       "            <td>2020-01-02 23:51:23</td>\n",
       "            <td>3</td>\n",
       "            <td>1</td>\n",
       "            <td>2020-01-03 00:12:37</td>\n",
       "            <td>13.4km</td>\n",
       "            <td>20 mins</td>\n",
       "            <td></td>\n",
       "            <td>21.23</td>\n",
       "        </tr>\n",
       "        <tr>\n",
       "            <td>3</td>\n",
       "            <td>102</td>\n",
       "            <td>2</td>\n",
       "            <td></td>\n",
       "            <td></td>\n",
       "            <td>2020-01-02 23:51:23</td>\n",
       "            <td>3</td>\n",
       "            <td>1</td>\n",
       "            <td>2020-01-03 00:12:37</td>\n",
       "            <td>13.4km</td>\n",
       "            <td>20 mins</td>\n",
       "            <td></td>\n",
       "            <td>21.23</td>\n",
       "        </tr>\n",
       "        <tr>\n",
       "            <td>10</td>\n",
       "            <td>104</td>\n",
       "            <td>1</td>\n",
       "            <td></td>\n",
       "            <td></td>\n",
       "            <td>2020-01-11 18:34:49</td>\n",
       "            <td>10</td>\n",
       "            <td>1</td>\n",
       "            <td>2020-01-11 18:50:20</td>\n",
       "            <td>10km</td>\n",
       "            <td>10minutes</td>\n",
       "            <td></td>\n",
       "            <td>15.52</td>\n",
       "        </tr>\n",
       "        <tr>\n",
       "            <td>10</td>\n",
       "            <td>104</td>\n",
       "            <td>1</td>\n",
       "            <td>2, 6</td>\n",
       "            <td>1, 4</td>\n",
       "            <td>2020-01-11 18:34:49</td>\n",
       "            <td>10</td>\n",
       "            <td>1</td>\n",
       "            <td>2020-01-11 18:50:20</td>\n",
       "            <td>10km</td>\n",
       "            <td>10minutes</td>\n",
       "            <td></td>\n",
       "            <td>15.52</td>\n",
       "        </tr>\n",
       "        <tr>\n",
       "            <td>4</td>\n",
       "            <td>103</td>\n",
       "            <td>1</td>\n",
       "            <td>4</td>\n",
       "            <td></td>\n",
       "            <td>2020-01-04 13:23:46</td>\n",
       "            <td>4</td>\n",
       "            <td>2</td>\n",
       "            <td>2020-01-04 13:53:03</td>\n",
       "            <td>23.4</td>\n",
       "            <td>40</td>\n",
       "            <td></td>\n",
       "            <td>29.28</td>\n",
       "        </tr>\n",
       "        <tr>\n",
       "            <td>4</td>\n",
       "            <td>103</td>\n",
       "            <td>1</td>\n",
       "            <td>4</td>\n",
       "            <td></td>\n",
       "            <td>2020-01-04 13:23:46</td>\n",
       "            <td>4</td>\n",
       "            <td>2</td>\n",
       "            <td>2020-01-04 13:53:03</td>\n",
       "            <td>23.4</td>\n",
       "            <td>40</td>\n",
       "            <td></td>\n",
       "            <td>29.28</td>\n",
       "        </tr>\n",
       "        <tr>\n",
       "            <td>4</td>\n",
       "            <td>103</td>\n",
       "            <td>2</td>\n",
       "            <td>4</td>\n",
       "            <td></td>\n",
       "            <td>2020-01-04 13:23:46</td>\n",
       "            <td>4</td>\n",
       "            <td>2</td>\n",
       "            <td>2020-01-04 13:53:03</td>\n",
       "            <td>23.4</td>\n",
       "            <td>40</td>\n",
       "            <td></td>\n",
       "            <td>29.28</td>\n",
       "        </tr>\n",
       "        <tr>\n",
       "            <td>7</td>\n",
       "            <td>105</td>\n",
       "            <td>2</td>\n",
       "            <td></td>\n",
       "            <td>1</td>\n",
       "            <td>2020-01-08 21:20:29</td>\n",
       "            <td>7</td>\n",
       "            <td>2</td>\n",
       "            <td>2020-01-08 21:30:45</td>\n",
       "            <td>25km</td>\n",
       "            <td>25mins</td>\n",
       "            <td></td>\n",
       "            <td>10.27</td>\n",
       "        </tr>\n",
       "        <tr>\n",
       "            <td>8</td>\n",
       "            <td>102</td>\n",
       "            <td>1</td>\n",
       "            <td></td>\n",
       "            <td></td>\n",
       "            <td>2020-01-09 23:54:33</td>\n",
       "            <td>8</td>\n",
       "            <td>2</td>\n",
       "            <td>2020-01-10 00:15:02</td>\n",
       "            <td>23.4 km</td>\n",
       "            <td>15 minute</td>\n",
       "            <td></td>\n",
       "            <td>20.48</td>\n",
       "        </tr>\n",
       "        <tr>\n",
       "            <td>5</td>\n",
       "            <td>104</td>\n",
       "            <td>1</td>\n",
       "            <td></td>\n",
       "            <td>1</td>\n",
       "            <td>2020-01-08 21:00:29</td>\n",
       "            <td>5</td>\n",
       "            <td>3</td>\n",
       "            <td>2020-01-08 21:10:57</td>\n",
       "            <td>10</td>\n",
       "            <td>15</td>\n",
       "            <td></td>\n",
       "            <td>10.47</td>\n",
       "        </tr>\n",
       "    </tbody>\n",
       "</table>"
      ],
      "text/plain": [
       "[(1, 101, 1, '', '', '2020-01-01 18:05:02', 1, 1, '2020-01-01 18:15:34', '20km', '32 minutes', '', 10.53),\n",
       " (2, 101, 1, '', '', '2020-01-01 19:00:52', 2, 1, '2020-01-01 19:10:54', '20km', '27 minutes', '', 10.03),\n",
       " (3, 102, 1, '', '', '2020-01-02 23:51:23', 3, 1, '2020-01-03 00:12:37', '13.4km', '20 mins', '', 21.23),\n",
       " (3, 102, 2, '', '', '2020-01-02 23:51:23', 3, 1, '2020-01-03 00:12:37', '13.4km', '20 mins', '', 21.23),\n",
       " (10, 104, 1, '', '', '2020-01-11 18:34:49', 10, 1, '2020-01-11 18:50:20', '10km', '10minutes', '', 15.52),\n",
       " (10, 104, 1, '2, 6', '1, 4', '2020-01-11 18:34:49', 10, 1, '2020-01-11 18:50:20', '10km', '10minutes', '', 15.52),\n",
       " (4, 103, 1, '4', '', '2020-01-04 13:23:46', 4, 2, '2020-01-04 13:53:03', '23.4', '40', '', 29.28),\n",
       " (4, 103, 1, '4', '', '2020-01-04 13:23:46', 4, 2, '2020-01-04 13:53:03', '23.4', '40', '', 29.28),\n",
       " (4, 103, 2, '4', '', '2020-01-04 13:23:46', 4, 2, '2020-01-04 13:53:03', '23.4', '40', '', 29.28),\n",
       " (7, 105, 2, '', '1', '2020-01-08 21:20:29', 7, 2, '2020-01-08 21:30:45', '25km', '25mins', '', 10.27),\n",
       " (8, 102, 1, '', '', '2020-01-09 23:54:33', 8, 2, '2020-01-10 00:15:02', '23.4 km', '15 minute', '', 20.48),\n",
       " (5, 104, 1, '', '1', '2020-01-08 21:00:29', 5, 3, '2020-01-08 21:10:57', '10', '15', '', 10.47)]"
      ]
     },
     "execution_count": 99,
     "metadata": {},
     "output_type": "execute_result"
    }
   ],
   "source": [
    "%%sql\n",
    "SELECT\n",
    "        *,\n",
    "        ROUND((strftime('%s', ro.pickup_time) - strftime('%s', co.order_time)) / 60.0, 2) AS time_to_pickup\n",
    "    FROM customer_orders as co\n",
    "    JOIN runner_orders as ro\n",
    "    ON co.order_id = ro.order_id\n",
    "    WHERE ro.cancellation = ''\n",
    "    ORDER BY ro.runner_id"
   ]
  },
  {
   "cell_type": "code",
   "execution_count": 100,
   "id": "18219f02",
   "metadata": {},
   "outputs": [
    {
     "name": "stdout",
     "output_type": "stream",
     "text": [
      " * sqlite://\n",
      "Done.\n"
     ]
    },
    {
     "data": {
      "text/html": [
       "<table>\n",
       "    <thead>\n",
       "        <tr>\n",
       "            <th>runner_id</th>\n",
       "            <th>time_to_pickup</th>\n",
       "        </tr>\n",
       "    </thead>\n",
       "    <tbody>\n",
       "        <tr>\n",
       "            <td>1</td>\n",
       "            <td>14.33</td>\n",
       "        </tr>\n",
       "        <tr>\n",
       "            <td>2</td>\n",
       "            <td>20.01</td>\n",
       "        </tr>\n",
       "        <tr>\n",
       "            <td>3</td>\n",
       "            <td>10.47</td>\n",
       "        </tr>\n",
       "    </tbody>\n",
       "</table>"
      ],
      "text/plain": [
       "[(1, 14.33), (2, 20.01), (3, 10.47)]"
      ]
     },
     "execution_count": 100,
     "metadata": {},
     "output_type": "execute_result"
    }
   ],
   "source": [
    "%%sql\n",
    "WITH time_to_pickup AS (\n",
    "    SELECT\n",
    "        *,\n",
    "        ROUND((strftime('%s', ro.pickup_time) - strftime('%s', co.order_time)) / 60.0, 2) AS time_to_pickup\n",
    "    FROM customer_orders as co\n",
    "    JOIN runner_orders as ro\n",
    "    ON co.order_id = ro.order_id\n",
    "    WHERE ro.cancellation = ''\n",
    "    ORDER BY ro.runner_id\n",
    ")\n",
    "\n",
    "SELECT \n",
    "    runner_id,\n",
    "    ROUND(AVG(DISTINCT time_to_pickup),2) as time_to_pickup\n",
    "FROM time_to_pickup\n",
    "GROUP BY 1"
   ]
  },
  {
   "cell_type": "markdown",
   "id": "14b9ae2b",
   "metadata": {},
   "source": [
    "#### Observations\n",
    "* Runner 1 took on average 14.33 minutes to pickup an order\n",
    "* Runner 2 took on average 20.01 minutes to pickup an order\n",
    "* Runner 3 took on average 10.47 minutes (only delivered 1 order)"
   ]
  },
  {
   "cell_type": "markdown",
   "id": "a96ac1e6",
   "metadata": {},
   "source": [
    "### 3. Is there any relationship between the number of pizzas and how long the order takes to prepare?"
   ]
  },
  {
   "cell_type": "code",
   "execution_count": 101,
   "id": "81bb3a3d",
   "metadata": {},
   "outputs": [
    {
     "name": "stdout",
     "output_type": "stream",
     "text": [
      " * sqlite://\n",
      "Done.\n"
     ]
    },
    {
     "data": {
      "text/html": [
       "<table>\n",
       "    <thead>\n",
       "        <tr>\n",
       "            <th>order_id</th>\n",
       "            <th>pizzas_ordered</th>\n",
       "            <th>preparation_time</th>\n",
       "        </tr>\n",
       "    </thead>\n",
       "    <tbody>\n",
       "        <tr>\n",
       "            <td>1</td>\n",
       "            <td>1</td>\n",
       "            <td>10.53</td>\n",
       "        </tr>\n",
       "        <tr>\n",
       "            <td>2</td>\n",
       "            <td>1</td>\n",
       "            <td>10.03</td>\n",
       "        </tr>\n",
       "        <tr>\n",
       "            <td>3</td>\n",
       "            <td>2</td>\n",
       "            <td>21.23</td>\n",
       "        </tr>\n",
       "        <tr>\n",
       "            <td>4</td>\n",
       "            <td>3</td>\n",
       "            <td>29.28</td>\n",
       "        </tr>\n",
       "        <tr>\n",
       "            <td>5</td>\n",
       "            <td>1</td>\n",
       "            <td>10.47</td>\n",
       "        </tr>\n",
       "        <tr>\n",
       "            <td>7</td>\n",
       "            <td>1</td>\n",
       "            <td>10.27</td>\n",
       "        </tr>\n",
       "        <tr>\n",
       "            <td>8</td>\n",
       "            <td>1</td>\n",
       "            <td>20.48</td>\n",
       "        </tr>\n",
       "        <tr>\n",
       "            <td>10</td>\n",
       "            <td>2</td>\n",
       "            <td>15.52</td>\n",
       "        </tr>\n",
       "    </tbody>\n",
       "</table>"
      ],
      "text/plain": [
       "[(1, 1, 10.53),\n",
       " (2, 1, 10.03),\n",
       " (3, 2, 21.23),\n",
       " (4, 3, 29.28),\n",
       " (5, 1, 10.47),\n",
       " (7, 1, 10.27),\n",
       " (8, 1, 20.48),\n",
       " (10, 2, 15.52)]"
      ]
     },
     "execution_count": 101,
     "metadata": {},
     "output_type": "execute_result"
    }
   ],
   "source": [
    "%%sql\n",
    "SELECT\n",
    "  co.order_id,\n",
    "  COUNT(*) as pizzas_ordered,\n",
    "  ROUND((strftime('%s', ro.pickup_time) - strftime('%s', co.order_time)) / 60.0, 2) AS preparation_time\n",
    "FROM customer_orders as co\n",
    "JOIN runner_orders as ro \n",
    "ON co.order_id = ro.order_id\n",
    "WHERE ro.cancellation = ''\n",
    "GROUP BY 1"
   ]
  },
  {
   "cell_type": "markdown",
   "id": "a4802320",
   "metadata": {},
   "source": [
    "#### Observations\n",
    "* The first 6 orders seem to indicate that each pizza takes about 10-11 minutes to prepare.\n",
    "* The last 2 orders tell a different story, however. Order_id 8 only had 1 pizza ordered but took over 20 minutes to prepare, while order_id 10 had 2 pizzas ordered and only took 15.5 minutes to prepare."
   ]
  },
  {
   "cell_type": "markdown",
   "id": "c441fd08",
   "metadata": {},
   "source": [
    "### 4. What was the average distance travelled for each customer?"
   ]
  },
  {
   "cell_type": "markdown",
   "id": "0a352f3a",
   "metadata": {},
   "source": [
    "#### Clean Runner Orders Table\n",
    "* Replace 'km' in distance column with blanks"
   ]
  },
  {
   "cell_type": "code",
   "execution_count": 102,
   "id": "31f8a97a",
   "metadata": {},
   "outputs": [
    {
     "name": "stdout",
     "output_type": "stream",
     "text": [
      " * sqlite://\n",
      "10 rows affected.\n"
     ]
    },
    {
     "data": {
      "text/plain": [
       "[]"
      ]
     },
     "execution_count": 102,
     "metadata": {},
     "output_type": "execute_result"
    }
   ],
   "source": [
    "%%sql\n",
    "UPDATE runner_orders\n",
    "SET distance = REPLACE(distance, 'km', '')"
   ]
  },
  {
   "cell_type": "code",
   "execution_count": 103,
   "id": "15105531",
   "metadata": {},
   "outputs": [
    {
     "name": "stdout",
     "output_type": "stream",
     "text": [
      " * sqlite://\n",
      "Done.\n"
     ]
    },
    {
     "data": {
      "text/html": [
       "<table>\n",
       "    <thead>\n",
       "        <tr>\n",
       "            <th>order_id</th>\n",
       "            <th>customer_id</th>\n",
       "            <th>pizza_id</th>\n",
       "            <th>exclusions</th>\n",
       "            <th>extras</th>\n",
       "            <th>order_time</th>\n",
       "            <th>order_id_1</th>\n",
       "            <th>runner_id</th>\n",
       "            <th>pickup_time</th>\n",
       "            <th>distance</th>\n",
       "            <th>duration</th>\n",
       "            <th>cancellation</th>\n",
       "        </tr>\n",
       "    </thead>\n",
       "    <tbody>\n",
       "        <tr>\n",
       "            <td>1</td>\n",
       "            <td>101</td>\n",
       "            <td>1</td>\n",
       "            <td></td>\n",
       "            <td></td>\n",
       "            <td>2020-01-01 18:05:02</td>\n",
       "            <td>1</td>\n",
       "            <td>1</td>\n",
       "            <td>2020-01-01 18:15:34</td>\n",
       "            <td>20</td>\n",
       "            <td>32 minutes</td>\n",
       "            <td></td>\n",
       "        </tr>\n",
       "        <tr>\n",
       "            <td>2</td>\n",
       "            <td>101</td>\n",
       "            <td>1</td>\n",
       "            <td></td>\n",
       "            <td></td>\n",
       "            <td>2020-01-01 19:00:52</td>\n",
       "            <td>2</td>\n",
       "            <td>1</td>\n",
       "            <td>2020-01-01 19:10:54</td>\n",
       "            <td>20</td>\n",
       "            <td>27 minutes</td>\n",
       "            <td></td>\n",
       "        </tr>\n",
       "        <tr>\n",
       "            <td>3</td>\n",
       "            <td>102</td>\n",
       "            <td>1</td>\n",
       "            <td></td>\n",
       "            <td></td>\n",
       "            <td>2020-01-02 23:51:23</td>\n",
       "            <td>3</td>\n",
       "            <td>1</td>\n",
       "            <td>2020-01-03 00:12:37</td>\n",
       "            <td>13.4</td>\n",
       "            <td>20 mins</td>\n",
       "            <td></td>\n",
       "        </tr>\n",
       "        <tr>\n",
       "            <td>3</td>\n",
       "            <td>102</td>\n",
       "            <td>2</td>\n",
       "            <td></td>\n",
       "            <td></td>\n",
       "            <td>2020-01-02 23:51:23</td>\n",
       "            <td>3</td>\n",
       "            <td>1</td>\n",
       "            <td>2020-01-03 00:12:37</td>\n",
       "            <td>13.4</td>\n",
       "            <td>20 mins</td>\n",
       "            <td></td>\n",
       "        </tr>\n",
       "        <tr>\n",
       "            <td>8</td>\n",
       "            <td>102</td>\n",
       "            <td>1</td>\n",
       "            <td></td>\n",
       "            <td></td>\n",
       "            <td>2020-01-09 23:54:33</td>\n",
       "            <td>8</td>\n",
       "            <td>2</td>\n",
       "            <td>2020-01-10 00:15:02</td>\n",
       "            <td>23.4 </td>\n",
       "            <td>15 minute</td>\n",
       "            <td></td>\n",
       "        </tr>\n",
       "        <tr>\n",
       "            <td>4</td>\n",
       "            <td>103</td>\n",
       "            <td>1</td>\n",
       "            <td>4</td>\n",
       "            <td></td>\n",
       "            <td>2020-01-04 13:23:46</td>\n",
       "            <td>4</td>\n",
       "            <td>2</td>\n",
       "            <td>2020-01-04 13:53:03</td>\n",
       "            <td>23.4</td>\n",
       "            <td>40</td>\n",
       "            <td></td>\n",
       "        </tr>\n",
       "        <tr>\n",
       "            <td>4</td>\n",
       "            <td>103</td>\n",
       "            <td>1</td>\n",
       "            <td>4</td>\n",
       "            <td></td>\n",
       "            <td>2020-01-04 13:23:46</td>\n",
       "            <td>4</td>\n",
       "            <td>2</td>\n",
       "            <td>2020-01-04 13:53:03</td>\n",
       "            <td>23.4</td>\n",
       "            <td>40</td>\n",
       "            <td></td>\n",
       "        </tr>\n",
       "        <tr>\n",
       "            <td>4</td>\n",
       "            <td>103</td>\n",
       "            <td>2</td>\n",
       "            <td>4</td>\n",
       "            <td></td>\n",
       "            <td>2020-01-04 13:23:46</td>\n",
       "            <td>4</td>\n",
       "            <td>2</td>\n",
       "            <td>2020-01-04 13:53:03</td>\n",
       "            <td>23.4</td>\n",
       "            <td>40</td>\n",
       "            <td></td>\n",
       "        </tr>\n",
       "        <tr>\n",
       "            <td>5</td>\n",
       "            <td>104</td>\n",
       "            <td>1</td>\n",
       "            <td></td>\n",
       "            <td>1</td>\n",
       "            <td>2020-01-08 21:00:29</td>\n",
       "            <td>5</td>\n",
       "            <td>3</td>\n",
       "            <td>2020-01-08 21:10:57</td>\n",
       "            <td>10</td>\n",
       "            <td>15</td>\n",
       "            <td></td>\n",
       "        </tr>\n",
       "        <tr>\n",
       "            <td>10</td>\n",
       "            <td>104</td>\n",
       "            <td>1</td>\n",
       "            <td></td>\n",
       "            <td></td>\n",
       "            <td>2020-01-11 18:34:49</td>\n",
       "            <td>10</td>\n",
       "            <td>1</td>\n",
       "            <td>2020-01-11 18:50:20</td>\n",
       "            <td>10</td>\n",
       "            <td>10minutes</td>\n",
       "            <td></td>\n",
       "        </tr>\n",
       "        <tr>\n",
       "            <td>10</td>\n",
       "            <td>104</td>\n",
       "            <td>1</td>\n",
       "            <td>2, 6</td>\n",
       "            <td>1, 4</td>\n",
       "            <td>2020-01-11 18:34:49</td>\n",
       "            <td>10</td>\n",
       "            <td>1</td>\n",
       "            <td>2020-01-11 18:50:20</td>\n",
       "            <td>10</td>\n",
       "            <td>10minutes</td>\n",
       "            <td></td>\n",
       "        </tr>\n",
       "        <tr>\n",
       "            <td>7</td>\n",
       "            <td>105</td>\n",
       "            <td>2</td>\n",
       "            <td></td>\n",
       "            <td>1</td>\n",
       "            <td>2020-01-08 21:20:29</td>\n",
       "            <td>7</td>\n",
       "            <td>2</td>\n",
       "            <td>2020-01-08 21:30:45</td>\n",
       "            <td>25</td>\n",
       "            <td>25mins</td>\n",
       "            <td></td>\n",
       "        </tr>\n",
       "    </tbody>\n",
       "</table>"
      ],
      "text/plain": [
       "[(1, 101, 1, '', '', '2020-01-01 18:05:02', 1, 1, '2020-01-01 18:15:34', '20', '32 minutes', ''),\n",
       " (2, 101, 1, '', '', '2020-01-01 19:00:52', 2, 1, '2020-01-01 19:10:54', '20', '27 minutes', ''),\n",
       " (3, 102, 1, '', '', '2020-01-02 23:51:23', 3, 1, '2020-01-03 00:12:37', '13.4', '20 mins', ''),\n",
       " (3, 102, 2, '', '', '2020-01-02 23:51:23', 3, 1, '2020-01-03 00:12:37', '13.4', '20 mins', ''),\n",
       " (8, 102, 1, '', '', '2020-01-09 23:54:33', 8, 2, '2020-01-10 00:15:02', '23.4 ', '15 minute', ''),\n",
       " (4, 103, 1, '4', '', '2020-01-04 13:23:46', 4, 2, '2020-01-04 13:53:03', '23.4', '40', ''),\n",
       " (4, 103, 1, '4', '', '2020-01-04 13:23:46', 4, 2, '2020-01-04 13:53:03', '23.4', '40', ''),\n",
       " (4, 103, 2, '4', '', '2020-01-04 13:23:46', 4, 2, '2020-01-04 13:53:03', '23.4', '40', ''),\n",
       " (5, 104, 1, '', '1', '2020-01-08 21:00:29', 5, 3, '2020-01-08 21:10:57', '10', '15', ''),\n",
       " (10, 104, 1, '', '', '2020-01-11 18:34:49', 10, 1, '2020-01-11 18:50:20', '10', '10minutes', ''),\n",
       " (10, 104, 1, '2, 6', '1, 4', '2020-01-11 18:34:49', 10, 1, '2020-01-11 18:50:20', '10', '10minutes', ''),\n",
       " (7, 105, 2, '', '1', '2020-01-08 21:20:29', 7, 2, '2020-01-08 21:30:45', '25', '25mins', '')]"
      ]
     },
     "execution_count": 103,
     "metadata": {},
     "output_type": "execute_result"
    }
   ],
   "source": [
    "%%sql\n",
    "SELECT *\n",
    "FROM customer_orders as co\n",
    "JOIN runner_orders as ro\n",
    "ON co.order_id = ro.order_id\n",
    "WHERE ro.cancellation = ''\n",
    "ORDER BY customer_id"
   ]
  },
  {
   "cell_type": "code",
   "execution_count": 104,
   "id": "f056a576",
   "metadata": {},
   "outputs": [
    {
     "name": "stdout",
     "output_type": "stream",
     "text": [
      " * sqlite://\n",
      "Done.\n"
     ]
    },
    {
     "data": {
      "text/html": [
       "<table>\n",
       "    <thead>\n",
       "        <tr>\n",
       "            <th>customer_id</th>\n",
       "            <th>avg_distance</th>\n",
       "        </tr>\n",
       "    </thead>\n",
       "    <tbody>\n",
       "        <tr>\n",
       "            <td>101</td>\n",
       "            <td>20.0</td>\n",
       "        </tr>\n",
       "        <tr>\n",
       "            <td>102</td>\n",
       "            <td>18.4</td>\n",
       "        </tr>\n",
       "        <tr>\n",
       "            <td>103</td>\n",
       "            <td>23.4</td>\n",
       "        </tr>\n",
       "        <tr>\n",
       "            <td>104</td>\n",
       "            <td>10.0</td>\n",
       "        </tr>\n",
       "        <tr>\n",
       "            <td>105</td>\n",
       "            <td>25.0</td>\n",
       "        </tr>\n",
       "    </tbody>\n",
       "</table>"
      ],
      "text/plain": [
       "[(101, 20.0), (102, 18.4), (103, 23.4), (104, 10.0), (105, 25.0)]"
      ]
     },
     "execution_count": 104,
     "metadata": {},
     "output_type": "execute_result"
    }
   ],
   "source": [
    "%%sql\n",
    "SELECT\n",
    "    co.customer_id,\n",
    "    ROUND(AVG(DISTINCT ro.distance),2) as avg_distance\n",
    "FROM customer_orders as co\n",
    "JOIN runner_orders as ro\n",
    "ON co.order_id = ro.order_id\n",
    "WHERE ro.cancellation = ''\n",
    "GROUP BY 1"
   ]
  },
  {
   "cell_type": "markdown",
   "id": "df878636",
   "metadata": {},
   "source": [
    "#### Observations\n",
    "* Average distance traveled for customer 101 was 20 km\n",
    "* Average distance travelled for customer 102 was 18.4 km \n",
    "* Average distance travelled for customer 103 was 23.4 km\n",
    "* Average distance travelled for customer 104 was 10 km\n",
    "* Average distance travelled for customer 105 was 25 km"
   ]
  },
  {
   "cell_type": "markdown",
   "id": "04fd6624",
   "metadata": {},
   "source": [
    "### 5. What was the difference between the longest and shortest delivery times for all orders?"
   ]
  },
  {
   "cell_type": "markdown",
   "id": "40cf69a9",
   "metadata": {},
   "source": [
    "#### Clean Runner Orders Table\n",
    "* Remove minutes from duration column"
   ]
  },
  {
   "cell_type": "code",
   "execution_count": 105,
   "id": "4a9a10f5",
   "metadata": {},
   "outputs": [
    {
     "name": "stdout",
     "output_type": "stream",
     "text": [
      " * sqlite://\n",
      "10 rows affected.\n"
     ]
    },
    {
     "data": {
      "text/plain": [
       "[]"
      ]
     },
     "execution_count": 105,
     "metadata": {},
     "output_type": "execute_result"
    }
   ],
   "source": [
    "%%sql\n",
    "UPDATE runner_orders\n",
    "SET duration = REPLACE(REPLACE(REPLACE(duration, 'minutes', ''), 'mins', ''), 'minute', '');"
   ]
  },
  {
   "cell_type": "code",
   "execution_count": 106,
   "id": "44030ab8",
   "metadata": {},
   "outputs": [
    {
     "name": "stdout",
     "output_type": "stream",
     "text": [
      " * sqlite://\n",
      "Done.\n"
     ]
    },
    {
     "data": {
      "text/html": [
       "<table>\n",
       "    <thead>\n",
       "        <tr>\n",
       "            <th>order_id</th>\n",
       "            <th>runner_id</th>\n",
       "            <th>pickup_time</th>\n",
       "            <th>distance</th>\n",
       "            <th>duration</th>\n",
       "            <th>cancellation</th>\n",
       "        </tr>\n",
       "    </thead>\n",
       "    <tbody>\n",
       "        <tr>\n",
       "            <td>1</td>\n",
       "            <td>1</td>\n",
       "            <td>2020-01-01 18:15:34</td>\n",
       "            <td>20</td>\n",
       "            <td>32 </td>\n",
       "            <td></td>\n",
       "        </tr>\n",
       "        <tr>\n",
       "            <td>2</td>\n",
       "            <td>1</td>\n",
       "            <td>2020-01-01 19:10:54</td>\n",
       "            <td>20</td>\n",
       "            <td>27 </td>\n",
       "            <td></td>\n",
       "        </tr>\n",
       "        <tr>\n",
       "            <td>3</td>\n",
       "            <td>1</td>\n",
       "            <td>2020-01-03 00:12:37</td>\n",
       "            <td>13.4</td>\n",
       "            <td>20 </td>\n",
       "            <td></td>\n",
       "        </tr>\n",
       "        <tr>\n",
       "            <td>4</td>\n",
       "            <td>2</td>\n",
       "            <td>2020-01-04 13:53:03</td>\n",
       "            <td>23.4</td>\n",
       "            <td>40</td>\n",
       "            <td></td>\n",
       "        </tr>\n",
       "        <tr>\n",
       "            <td>5</td>\n",
       "            <td>3</td>\n",
       "            <td>2020-01-08 21:10:57</td>\n",
       "            <td>10</td>\n",
       "            <td>15</td>\n",
       "            <td></td>\n",
       "        </tr>\n",
       "        <tr>\n",
       "            <td>6</td>\n",
       "            <td>3</td>\n",
       "            <td>null</td>\n",
       "            <td>null</td>\n",
       "            <td>null</td>\n",
       "            <td>cancelled</td>\n",
       "        </tr>\n",
       "        <tr>\n",
       "            <td>7</td>\n",
       "            <td>2</td>\n",
       "            <td>2020-01-08 21:30:45</td>\n",
       "            <td>25</td>\n",
       "            <td>25</td>\n",
       "            <td></td>\n",
       "        </tr>\n",
       "        <tr>\n",
       "            <td>8</td>\n",
       "            <td>2</td>\n",
       "            <td>2020-01-10 00:15:02</td>\n",
       "            <td>23.4 </td>\n",
       "            <td>15 </td>\n",
       "            <td></td>\n",
       "        </tr>\n",
       "        <tr>\n",
       "            <td>9</td>\n",
       "            <td>2</td>\n",
       "            <td>null</td>\n",
       "            <td>null</td>\n",
       "            <td>null</td>\n",
       "            <td>cancelled</td>\n",
       "        </tr>\n",
       "        <tr>\n",
       "            <td>10</td>\n",
       "            <td>1</td>\n",
       "            <td>2020-01-11 18:50:20</td>\n",
       "            <td>10</td>\n",
       "            <td>10</td>\n",
       "            <td></td>\n",
       "        </tr>\n",
       "    </tbody>\n",
       "</table>"
      ],
      "text/plain": [
       "[(1, 1, '2020-01-01 18:15:34', '20', '32 ', ''),\n",
       " (2, 1, '2020-01-01 19:10:54', '20', '27 ', ''),\n",
       " (3, 1, '2020-01-03 00:12:37', '13.4', '20 ', ''),\n",
       " (4, 2, '2020-01-04 13:53:03', '23.4', '40', ''),\n",
       " (5, 3, '2020-01-08 21:10:57', '10', '15', ''),\n",
       " (6, 3, 'null', 'null', 'null', 'cancelled'),\n",
       " (7, 2, '2020-01-08 21:30:45', '25', '25', ''),\n",
       " (8, 2, '2020-01-10 00:15:02', '23.4 ', '15 ', ''),\n",
       " (9, 2, 'null', 'null', 'null', 'cancelled'),\n",
       " (10, 1, '2020-01-11 18:50:20', '10', '10', '')]"
      ]
     },
     "execution_count": 106,
     "metadata": {},
     "output_type": "execute_result"
    }
   ],
   "source": [
    "%%sql\n",
    "SELECT *\n",
    "FROM runner_orders"
   ]
  },
  {
   "cell_type": "code",
   "execution_count": 107,
   "id": "c3c67110",
   "metadata": {},
   "outputs": [
    {
     "name": "stdout",
     "output_type": "stream",
     "text": [
      " * sqlite://\n",
      "Done.\n"
     ]
    },
    {
     "data": {
      "text/html": [
       "<table>\n",
       "    <thead>\n",
       "        <tr>\n",
       "            <th>slowest_delivery</th>\n",
       "            <th>fastest_delivery</th>\n",
       "            <th>fastest_slowest_diff</th>\n",
       "        </tr>\n",
       "    </thead>\n",
       "    <tbody>\n",
       "        <tr>\n",
       "            <td>40</td>\n",
       "            <td>10</td>\n",
       "            <td>30</td>\n",
       "        </tr>\n",
       "    </tbody>\n",
       "</table>"
      ],
      "text/plain": [
       "[('40', '10', 30)]"
      ]
     },
     "execution_count": 107,
     "metadata": {},
     "output_type": "execute_result"
    }
   ],
   "source": [
    "%%sql\n",
    "SELECT\n",
    "    MAX(duration) AS slowest_delivery,\n",
    "    MIN(duration) AS fastest_delivery,\n",
    "    MAX(duration) - MIN(duration) AS fastest_slowest_diff\n",
    "FROM runner_orders\n",
    "WHERE cancellation = ''"
   ]
  },
  {
   "cell_type": "markdown",
   "id": "bfe94397",
   "metadata": {},
   "source": [
    "#### Observations\n",
    "* The slowest delivery took 40 minutes\n",
    "* The fastest delivery took 10 minutes\n",
    "* The difference between the fastest and slowest deliveries was 30 minutes"
   ]
  },
  {
   "cell_type": "markdown",
   "id": "c8cc870d",
   "metadata": {},
   "source": [
    "### 6. What was the average speed for each runner?"
   ]
  },
  {
   "cell_type": "code",
   "execution_count": 108,
   "id": "05f95504",
   "metadata": {},
   "outputs": [
    {
     "name": "stdout",
     "output_type": "stream",
     "text": [
      " * sqlite://\n",
      "Done.\n"
     ]
    },
    {
     "data": {
      "text/html": [
       "<table>\n",
       "    <thead>\n",
       "        <tr>\n",
       "            <th>runner_id</th>\n",
       "            <th>average_speed</th>\n",
       "        </tr>\n",
       "    </thead>\n",
       "    <tbody>\n",
       "        <tr>\n",
       "            <td>1</td>\n",
       "            <td>0.76</td>\n",
       "        </tr>\n",
       "        <tr>\n",
       "            <td>2</td>\n",
       "            <td>1.05</td>\n",
       "        </tr>\n",
       "        <tr>\n",
       "            <td>3</td>\n",
       "            <td>0.67</td>\n",
       "        </tr>\n",
       "    </tbody>\n",
       "</table>"
      ],
      "text/plain": [
       "[(1, 0.76), (2, 1.05), (3, 0.67)]"
      ]
     },
     "execution_count": 108,
     "metadata": {},
     "output_type": "execute_result"
    }
   ],
   "source": [
    "%%sql\n",
    "WITH runner_speed AS (\n",
    "    SELECT\n",
    "        runner_id,\n",
    "        distance,\n",
    "        duration,\n",
    "        ROUND((1.0 * distance) / duration, 2) as km_min\n",
    "    FROM runner_orders\n",
    "    WHERE cancellation = ''\n",
    "    ORDER BY 1\n",
    ")\n",
    "\n",
    "SELECT\n",
    "    runner_id,\n",
    "    ROUND(AVG(km_min),2) as average_speed\n",
    "FROM runner_speed\n",
    "GROUP BY 1"
   ]
  },
  {
   "cell_type": "markdown",
   "id": "baf2b94b",
   "metadata": {},
   "source": [
    "#### Observations"
   ]
  },
  {
   "cell_type": "markdown",
   "id": "765c4238",
   "metadata": {},
   "source": [
    "* The average speed of runner 1 was 0.76 km/min\n",
    "* The average speed of runner 2 was 1.05 km/min\n",
    "* The average speed of runner 3 was 0.67 km min"
   ]
  },
  {
   "cell_type": "code",
   "execution_count": null,
   "id": "b9289fb1",
   "metadata": {},
   "outputs": [],
   "source": []
  },
  {
   "cell_type": "markdown",
   "id": "bd41af98",
   "metadata": {},
   "source": [
    "## Part 3: Ingredient Optimization"
   ]
  },
  {
   "cell_type": "markdown",
   "id": "1043cda1",
   "metadata": {},
   "source": [
    "### 1. What are the standard ingredients for each pizza?"
   ]
  },
  {
   "cell_type": "code",
   "execution_count": 131,
   "id": "70118be2",
   "metadata": {},
   "outputs": [
    {
     "name": "stdout",
     "output_type": "stream",
     "text": [
      " * sqlite://\n",
      "Done.\n"
     ]
    },
    {
     "data": {
      "text/html": [
       "<table>\n",
       "    <thead>\n",
       "        <tr>\n",
       "            <th>pizza_id</th>\n",
       "            <th>pizza_name</th>\n",
       "        </tr>\n",
       "    </thead>\n",
       "    <tbody>\n",
       "        <tr>\n",
       "            <td>1</td>\n",
       "            <td>Meatlovers</td>\n",
       "        </tr>\n",
       "        <tr>\n",
       "            <td>2</td>\n",
       "            <td>Vegetarian</td>\n",
       "        </tr>\n",
       "    </tbody>\n",
       "</table>"
      ],
      "text/plain": [
       "[(1, 'Meatlovers'), (2, 'Vegetarian')]"
      ]
     },
     "execution_count": 131,
     "metadata": {},
     "output_type": "execute_result"
    }
   ],
   "source": [
    "%%sql\n",
    "SELECT *\n",
    "FROM pizza_names"
   ]
  },
  {
   "cell_type": "code",
   "execution_count": 133,
   "id": "4f23cedb",
   "metadata": {},
   "outputs": [
    {
     "name": "stdout",
     "output_type": "stream",
     "text": [
      " * sqlite://\n",
      "Done.\n"
     ]
    },
    {
     "data": {
      "text/html": [
       "<table>\n",
       "    <thead>\n",
       "        <tr>\n",
       "            <th>pizza_id</th>\n",
       "            <th>toppings</th>\n",
       "        </tr>\n",
       "    </thead>\n",
       "    <tbody>\n",
       "        <tr>\n",
       "            <td>1</td>\n",
       "            <td>1, 2, 3, 4, 5, 6, 8, 10</td>\n",
       "        </tr>\n",
       "        <tr>\n",
       "            <td>2</td>\n",
       "            <td>4, 6, 7, 9, 11, 12</td>\n",
       "        </tr>\n",
       "    </tbody>\n",
       "</table>"
      ],
      "text/plain": [
       "[(1, '1, 2, 3, 4, 5, 6, 8, 10'), (2, '4, 6, 7, 9, 11, 12')]"
      ]
     },
     "execution_count": 133,
     "metadata": {},
     "output_type": "execute_result"
    }
   ],
   "source": [
    "%%sql\n",
    "SELECT *\n",
    "FROM pizza_recipes"
   ]
  },
  {
   "cell_type": "code",
   "execution_count": 134,
   "id": "9f1c02d3",
   "metadata": {},
   "outputs": [
    {
     "name": "stdout",
     "output_type": "stream",
     "text": [
      " * sqlite://\n",
      "Done.\n"
     ]
    },
    {
     "data": {
      "text/html": [
       "<table>\n",
       "    <thead>\n",
       "        <tr>\n",
       "            <th>pizza_name</th>\n",
       "            <th>toppings</th>\n",
       "        </tr>\n",
       "    </thead>\n",
       "    <tbody>\n",
       "        <tr>\n",
       "            <td>Meatlovers</td>\n",
       "            <td>1, 2, 3, 4, 5, 6, 8, 10</td>\n",
       "        </tr>\n",
       "        <tr>\n",
       "            <td>Vegetarian</td>\n",
       "            <td>4, 6, 7, 9, 11, 12</td>\n",
       "        </tr>\n",
       "    </tbody>\n",
       "</table>"
      ],
      "text/plain": [
       "[('Meatlovers', '1, 2, 3, 4, 5, 6, 8, 10'),\n",
       " ('Vegetarian', '4, 6, 7, 9, 11, 12')]"
      ]
     },
     "execution_count": 134,
     "metadata": {},
     "output_type": "execute_result"
    }
   ],
   "source": [
    "%%sql\n",
    "SELECT \n",
    "    pn.pizza_name,\n",
    "    pr.toppings\n",
    "FROM pizza_names as pn\n",
    "JOIN pizza_recipes as pr\n",
    "ON pn.pizza_id = pr.pizza_id"
   ]
  },
  {
   "cell_type": "code",
   "execution_count": 132,
   "id": "c437acc7",
   "metadata": {},
   "outputs": [
    {
     "name": "stdout",
     "output_type": "stream",
     "text": [
      " * sqlite://\n",
      "Done.\n"
     ]
    },
    {
     "data": {
      "text/html": [
       "<table>\n",
       "    <thead>\n",
       "        <tr>\n",
       "            <th>topping_id</th>\n",
       "            <th>topping_name</th>\n",
       "        </tr>\n",
       "    </thead>\n",
       "    <tbody>\n",
       "        <tr>\n",
       "            <td>1</td>\n",
       "            <td>Bacon</td>\n",
       "        </tr>\n",
       "        <tr>\n",
       "            <td>2</td>\n",
       "            <td>BBQ Sauce</td>\n",
       "        </tr>\n",
       "        <tr>\n",
       "            <td>3</td>\n",
       "            <td>Beef</td>\n",
       "        </tr>\n",
       "        <tr>\n",
       "            <td>4</td>\n",
       "            <td>Cheese</td>\n",
       "        </tr>\n",
       "        <tr>\n",
       "            <td>5</td>\n",
       "            <td>Chicken</td>\n",
       "        </tr>\n",
       "        <tr>\n",
       "            <td>6</td>\n",
       "            <td>Mushrooms</td>\n",
       "        </tr>\n",
       "        <tr>\n",
       "            <td>7</td>\n",
       "            <td>Onions</td>\n",
       "        </tr>\n",
       "        <tr>\n",
       "            <td>8</td>\n",
       "            <td>Pepperoni</td>\n",
       "        </tr>\n",
       "        <tr>\n",
       "            <td>9</td>\n",
       "            <td>Peppers</td>\n",
       "        </tr>\n",
       "        <tr>\n",
       "            <td>10</td>\n",
       "            <td>Salami</td>\n",
       "        </tr>\n",
       "        <tr>\n",
       "            <td>11</td>\n",
       "            <td>Tomatoes</td>\n",
       "        </tr>\n",
       "        <tr>\n",
       "            <td>12</td>\n",
       "            <td>Tomato Sauce</td>\n",
       "        </tr>\n",
       "    </tbody>\n",
       "</table>"
      ],
      "text/plain": [
       "[(1, 'Bacon'),\n",
       " (2, 'BBQ Sauce'),\n",
       " (3, 'Beef'),\n",
       " (4, 'Cheese'),\n",
       " (5, 'Chicken'),\n",
       " (6, 'Mushrooms'),\n",
       " (7, 'Onions'),\n",
       " (8, 'Pepperoni'),\n",
       " (9, 'Peppers'),\n",
       " (10, 'Salami'),\n",
       " (11, 'Tomatoes'),\n",
       " (12, 'Tomato Sauce')]"
      ]
     },
     "execution_count": 132,
     "metadata": {},
     "output_type": "execute_result"
    }
   ],
   "source": [
    "%%sql\n",
    "SELECT *\n",
    "FROM pizza_toppings"
   ]
  },
  {
   "cell_type": "markdown",
   "id": "9e6ccf6b",
   "metadata": {},
   "source": [
    "#### Observations\n",
    "* The standard toppings for Meatlovers are Bacon, BBQ Sauce, Beef, Cheese, Chicken, Mushrooms, Pepperoni and Salami\n",
    "* The standard toppings for Vegetarian are Cheese, Mushrooms, Onions, Peppers, Tomatoes and Tomato Sauce"
   ]
  },
  {
   "cell_type": "markdown",
   "id": "602e32cd",
   "metadata": {},
   "source": [
    "### 2. What was the most commonly added extra?"
   ]
  },
  {
   "cell_type": "code",
   "execution_count": 142,
   "id": "1ea46050",
   "metadata": {},
   "outputs": [
    {
     "name": "stdout",
     "output_type": "stream",
     "text": [
      " * sqlite://\n",
      "Done.\n"
     ]
    },
    {
     "data": {
      "text/html": [
       "<table>\n",
       "    <thead>\n",
       "        <tr>\n",
       "            <th>order_id</th>\n",
       "            <th>customer_id</th>\n",
       "            <th>pizza_id</th>\n",
       "            <th>exclusions</th>\n",
       "            <th>extras</th>\n",
       "            <th>order_time</th>\n",
       "        </tr>\n",
       "    </thead>\n",
       "    <tbody>\n",
       "        <tr>\n",
       "            <td>1</td>\n",
       "            <td>101</td>\n",
       "            <td>1</td>\n",
       "            <td></td>\n",
       "            <td></td>\n",
       "            <td>2020-01-01 18:05:02</td>\n",
       "        </tr>\n",
       "        <tr>\n",
       "            <td>2</td>\n",
       "            <td>101</td>\n",
       "            <td>1</td>\n",
       "            <td></td>\n",
       "            <td></td>\n",
       "            <td>2020-01-01 19:00:52</td>\n",
       "        </tr>\n",
       "        <tr>\n",
       "            <td>3</td>\n",
       "            <td>102</td>\n",
       "            <td>1</td>\n",
       "            <td></td>\n",
       "            <td></td>\n",
       "            <td>2020-01-02 23:51:23</td>\n",
       "        </tr>\n",
       "        <tr>\n",
       "            <td>3</td>\n",
       "            <td>102</td>\n",
       "            <td>2</td>\n",
       "            <td></td>\n",
       "            <td></td>\n",
       "            <td>2020-01-02 23:51:23</td>\n",
       "        </tr>\n",
       "        <tr>\n",
       "            <td>4</td>\n",
       "            <td>103</td>\n",
       "            <td>1</td>\n",
       "            <td>4</td>\n",
       "            <td></td>\n",
       "            <td>2020-01-04 13:23:46</td>\n",
       "        </tr>\n",
       "        <tr>\n",
       "            <td>4</td>\n",
       "            <td>103</td>\n",
       "            <td>1</td>\n",
       "            <td>4</td>\n",
       "            <td></td>\n",
       "            <td>2020-01-04 13:23:46</td>\n",
       "        </tr>\n",
       "        <tr>\n",
       "            <td>4</td>\n",
       "            <td>103</td>\n",
       "            <td>2</td>\n",
       "            <td>4</td>\n",
       "            <td></td>\n",
       "            <td>2020-01-04 13:23:46</td>\n",
       "        </tr>\n",
       "        <tr>\n",
       "            <td>5</td>\n",
       "            <td>104</td>\n",
       "            <td>1</td>\n",
       "            <td></td>\n",
       "            <td>1</td>\n",
       "            <td>2020-01-08 21:00:29</td>\n",
       "        </tr>\n",
       "        <tr>\n",
       "            <td>6</td>\n",
       "            <td>101</td>\n",
       "            <td>2</td>\n",
       "            <td></td>\n",
       "            <td></td>\n",
       "            <td>2020-01-08 21:03:13</td>\n",
       "        </tr>\n",
       "        <tr>\n",
       "            <td>7</td>\n",
       "            <td>105</td>\n",
       "            <td>2</td>\n",
       "            <td></td>\n",
       "            <td>1</td>\n",
       "            <td>2020-01-08 21:20:29</td>\n",
       "        </tr>\n",
       "        <tr>\n",
       "            <td>8</td>\n",
       "            <td>102</td>\n",
       "            <td>1</td>\n",
       "            <td></td>\n",
       "            <td></td>\n",
       "            <td>2020-01-09 23:54:33</td>\n",
       "        </tr>\n",
       "        <tr>\n",
       "            <td>9</td>\n",
       "            <td>103</td>\n",
       "            <td>1</td>\n",
       "            <td>4</td>\n",
       "            <td>1, 5</td>\n",
       "            <td>2020-01-10 11:22:59</td>\n",
       "        </tr>\n",
       "        <tr>\n",
       "            <td>10</td>\n",
       "            <td>104</td>\n",
       "            <td>1</td>\n",
       "            <td></td>\n",
       "            <td></td>\n",
       "            <td>2020-01-11 18:34:49</td>\n",
       "        </tr>\n",
       "        <tr>\n",
       "            <td>10</td>\n",
       "            <td>104</td>\n",
       "            <td>1</td>\n",
       "            <td>2, 6</td>\n",
       "            <td>1, 4</td>\n",
       "            <td>2020-01-11 18:34:49</td>\n",
       "        </tr>\n",
       "    </tbody>\n",
       "</table>"
      ],
      "text/plain": [
       "[(1, 101, 1, '', '', '2020-01-01 18:05:02'),\n",
       " (2, 101, 1, '', '', '2020-01-01 19:00:52'),\n",
       " (3, 102, 1, '', '', '2020-01-02 23:51:23'),\n",
       " (3, 102, 2, '', '', '2020-01-02 23:51:23'),\n",
       " (4, 103, 1, '4', '', '2020-01-04 13:23:46'),\n",
       " (4, 103, 1, '4', '', '2020-01-04 13:23:46'),\n",
       " (4, 103, 2, '4', '', '2020-01-04 13:23:46'),\n",
       " (5, 104, 1, '', '1', '2020-01-08 21:00:29'),\n",
       " (6, 101, 2, '', '', '2020-01-08 21:03:13'),\n",
       " (7, 105, 2, '', '1', '2020-01-08 21:20:29'),\n",
       " (8, 102, 1, '', '', '2020-01-09 23:54:33'),\n",
       " (9, 103, 1, '4', '1, 5', '2020-01-10 11:22:59'),\n",
       " (10, 104, 1, '', '', '2020-01-11 18:34:49'),\n",
       " (10, 104, 1, '2, 6', '1, 4', '2020-01-11 18:34:49')]"
      ]
     },
     "execution_count": 142,
     "metadata": {},
     "output_type": "execute_result"
    }
   ],
   "source": [
    "%%sql\n",
    "SELECT *\n",
    "FROM customer_orders as co"
   ]
  },
  {
   "cell_type": "markdown",
   "id": "047e8bf8",
   "metadata": {},
   "source": [
    "### Observations\n",
    "* The most commonly added extra is bacon"
   ]
  },
  {
   "cell_type": "markdown",
   "id": "0b50eba8",
   "metadata": {},
   "source": [
    "### 3. What was the most common exclusion?"
   ]
  },
  {
   "cell_type": "code",
   "execution_count": 145,
   "id": "d095ec07",
   "metadata": {},
   "outputs": [
    {
     "name": "stdout",
     "output_type": "stream",
     "text": [
      " * sqlite://\n",
      "Done.\n"
     ]
    },
    {
     "data": {
      "text/html": [
       "<table>\n",
       "    <thead>\n",
       "        <tr>\n",
       "            <th>order_id</th>\n",
       "            <th>customer_id</th>\n",
       "            <th>pizza_id</th>\n",
       "            <th>exclusions</th>\n",
       "            <th>extras</th>\n",
       "            <th>order_time</th>\n",
       "        </tr>\n",
       "    </thead>\n",
       "    <tbody>\n",
       "        <tr>\n",
       "            <td>1</td>\n",
       "            <td>101</td>\n",
       "            <td>1</td>\n",
       "            <td></td>\n",
       "            <td></td>\n",
       "            <td>2020-01-01 18:05:02</td>\n",
       "        </tr>\n",
       "        <tr>\n",
       "            <td>2</td>\n",
       "            <td>101</td>\n",
       "            <td>1</td>\n",
       "            <td></td>\n",
       "            <td></td>\n",
       "            <td>2020-01-01 19:00:52</td>\n",
       "        </tr>\n",
       "        <tr>\n",
       "            <td>3</td>\n",
       "            <td>102</td>\n",
       "            <td>1</td>\n",
       "            <td></td>\n",
       "            <td></td>\n",
       "            <td>2020-01-02 23:51:23</td>\n",
       "        </tr>\n",
       "        <tr>\n",
       "            <td>3</td>\n",
       "            <td>102</td>\n",
       "            <td>2</td>\n",
       "            <td></td>\n",
       "            <td></td>\n",
       "            <td>2020-01-02 23:51:23</td>\n",
       "        </tr>\n",
       "        <tr>\n",
       "            <td>4</td>\n",
       "            <td>103</td>\n",
       "            <td>1</td>\n",
       "            <td>4</td>\n",
       "            <td></td>\n",
       "            <td>2020-01-04 13:23:46</td>\n",
       "        </tr>\n",
       "        <tr>\n",
       "            <td>4</td>\n",
       "            <td>103</td>\n",
       "            <td>1</td>\n",
       "            <td>4</td>\n",
       "            <td></td>\n",
       "            <td>2020-01-04 13:23:46</td>\n",
       "        </tr>\n",
       "        <tr>\n",
       "            <td>4</td>\n",
       "            <td>103</td>\n",
       "            <td>2</td>\n",
       "            <td>4</td>\n",
       "            <td></td>\n",
       "            <td>2020-01-04 13:23:46</td>\n",
       "        </tr>\n",
       "        <tr>\n",
       "            <td>5</td>\n",
       "            <td>104</td>\n",
       "            <td>1</td>\n",
       "            <td></td>\n",
       "            <td>1</td>\n",
       "            <td>2020-01-08 21:00:29</td>\n",
       "        </tr>\n",
       "        <tr>\n",
       "            <td>6</td>\n",
       "            <td>101</td>\n",
       "            <td>2</td>\n",
       "            <td></td>\n",
       "            <td></td>\n",
       "            <td>2020-01-08 21:03:13</td>\n",
       "        </tr>\n",
       "        <tr>\n",
       "            <td>7</td>\n",
       "            <td>105</td>\n",
       "            <td>2</td>\n",
       "            <td></td>\n",
       "            <td>1</td>\n",
       "            <td>2020-01-08 21:20:29</td>\n",
       "        </tr>\n",
       "        <tr>\n",
       "            <td>8</td>\n",
       "            <td>102</td>\n",
       "            <td>1</td>\n",
       "            <td></td>\n",
       "            <td></td>\n",
       "            <td>2020-01-09 23:54:33</td>\n",
       "        </tr>\n",
       "        <tr>\n",
       "            <td>9</td>\n",
       "            <td>103</td>\n",
       "            <td>1</td>\n",
       "            <td>4</td>\n",
       "            <td>1, 5</td>\n",
       "            <td>2020-01-10 11:22:59</td>\n",
       "        </tr>\n",
       "        <tr>\n",
       "            <td>10</td>\n",
       "            <td>104</td>\n",
       "            <td>1</td>\n",
       "            <td></td>\n",
       "            <td></td>\n",
       "            <td>2020-01-11 18:34:49</td>\n",
       "        </tr>\n",
       "        <tr>\n",
       "            <td>10</td>\n",
       "            <td>104</td>\n",
       "            <td>1</td>\n",
       "            <td>2, 6</td>\n",
       "            <td>1, 4</td>\n",
       "            <td>2020-01-11 18:34:49</td>\n",
       "        </tr>\n",
       "    </tbody>\n",
       "</table>"
      ],
      "text/plain": [
       "[(1, 101, 1, '', '', '2020-01-01 18:05:02'),\n",
       " (2, 101, 1, '', '', '2020-01-01 19:00:52'),\n",
       " (3, 102, 1, '', '', '2020-01-02 23:51:23'),\n",
       " (3, 102, 2, '', '', '2020-01-02 23:51:23'),\n",
       " (4, 103, 1, '4', '', '2020-01-04 13:23:46'),\n",
       " (4, 103, 1, '4', '', '2020-01-04 13:23:46'),\n",
       " (4, 103, 2, '4', '', '2020-01-04 13:23:46'),\n",
       " (5, 104, 1, '', '1', '2020-01-08 21:00:29'),\n",
       " (6, 101, 2, '', '', '2020-01-08 21:03:13'),\n",
       " (7, 105, 2, '', '1', '2020-01-08 21:20:29'),\n",
       " (8, 102, 1, '', '', '2020-01-09 23:54:33'),\n",
       " (9, 103, 1, '4', '1, 5', '2020-01-10 11:22:59'),\n",
       " (10, 104, 1, '', '', '2020-01-11 18:34:49'),\n",
       " (10, 104, 1, '2, 6', '1, 4', '2020-01-11 18:34:49')]"
      ]
     },
     "execution_count": 145,
     "metadata": {},
     "output_type": "execute_result"
    }
   ],
   "source": [
    "%%sql\n",
    "SELECT *\n",
    "FROM customer_orders"
   ]
  },
  {
   "cell_type": "markdown",
   "id": "fb7be9ad",
   "metadata": {},
   "source": [
    "#### Observations\n",
    "* The most common exclusion was cheese"
   ]
  },
  {
   "cell_type": "code",
   "execution_count": null,
   "id": "dddbf5d9",
   "metadata": {},
   "outputs": [],
   "source": []
  },
  {
   "cell_type": "markdown",
   "id": "3bfed336",
   "metadata": {},
   "source": [
    "## Part 4: Pricing and Ratings"
   ]
  },
  {
   "cell_type": "markdown",
   "id": "e6017485",
   "metadata": {},
   "source": [
    "### 1. Meat Lovers pizza costs 12 dollars and Vegetarian costs 10 dollars. If there are no delivery fees and no charges for changes, how much money has Pizza Runner made so far?"
   ]
  },
  {
   "cell_type": "code",
   "execution_count": 48,
   "id": "c0946f8b",
   "metadata": {},
   "outputs": [
    {
     "name": "stdout",
     "output_type": "stream",
     "text": [
      " * sqlite://\n",
      "Done.\n"
     ]
    },
    {
     "data": {
      "text/html": [
       "<table>\n",
       "    <thead>\n",
       "        <tr>\n",
       "            <th>revenue_meat</th>\n",
       "            <th>revenue_veg</th>\n",
       "            <th>total_revenue</th>\n",
       "        </tr>\n",
       "    </thead>\n",
       "    <tbody>\n",
       "        <tr>\n",
       "            <td>108</td>\n",
       "            <td>30</td>\n",
       "            <td>138</td>\n",
       "        </tr>\n",
       "    </tbody>\n",
       "</table>"
      ],
      "text/plain": [
       "[(108, 30, 138)]"
      ]
     },
     "execution_count": 48,
     "metadata": {},
     "output_type": "execute_result"
    }
   ],
   "source": [
    "%%sql\n",
    "SELECT\n",
    "    SUM(CASE WHEN pn.pizza_name = 'Meatlovers' THEN 12 END) as revenue_meat,\n",
    "    SUM(CASE WHEN pn.pizza_name = 'Vegetarian' THEN 10 END) as revenue_veg,\n",
    "    SUM(\n",
    "      CASE\n",
    "        WHEN pn.pizza_name = 'Meatlovers' THEN 12\n",
    "        WHEN pn.pizza_name = 'Vegetarian' THEN 10\n",
    "        ELSE 0\n",
    "      END\n",
    "    ) as total_revenue\n",
    "FROM customer_orders as co\n",
    "JOIN pizza_names as pn\n",
    "ON co.pizza_id = pn.pizza_id\n",
    "JOIN runner_orders as ro\n",
    "ON ro.order_id = co.order_id\n",
    "WHERE ro.cancellation = ''"
   ]
  },
  {
   "cell_type": "markdown",
   "id": "32933260",
   "metadata": {},
   "source": [
    "#### Observations\n",
    "* Pizza Diner has made 138 dollars so far. \n",
    "* 108 dollars from Meatlovers and 30 dollars from Vegetarian."
   ]
  },
  {
   "cell_type": "markdown",
   "id": "fdb37518",
   "metadata": {},
   "source": [
    "### 2. What if there was an additional $1 charge for any extras that were added?"
   ]
  },
  {
   "cell_type": "code",
   "execution_count": 49,
   "id": "c900b520",
   "metadata": {},
   "outputs": [
    {
     "name": "stdout",
     "output_type": "stream",
     "text": [
      " * sqlite://\n",
      "Done.\n"
     ]
    },
    {
     "data": {
      "text/html": [
       "<table>\n",
       "    <thead>\n",
       "        <tr>\n",
       "            <th>total_revenue</th>\n",
       "        </tr>\n",
       "    </thead>\n",
       "    <tbody>\n",
       "        <tr>\n",
       "            <td>142</td>\n",
       "        </tr>\n",
       "    </tbody>\n",
       "</table>"
      ],
      "text/plain": [
       "[(142,)]"
      ]
     },
     "execution_count": 49,
     "metadata": {},
     "output_type": "execute_result"
    }
   ],
   "source": [
    "%%sql\n",
    "SELECT\n",
    "    SUM (\n",
    "      CASE\n",
    "        WHEN pn.pizza_name = 'Meatlovers' THEN 12\n",
    "        WHEN pn.pizza_name = 'Vegetarian' THEN 10\n",
    "        ELSE 0\n",
    "    END +\n",
    "      CASE\n",
    "        WHEN co.extras = '1' THEN 1\n",
    "        WHEN co.extras = '1, 4' THEN 2\n",
    "        ELSE 0\n",
    "    END\n",
    "    ) as total_revenue\n",
    "FROM customer_orders as co\n",
    "JOIN pizza_names as pn\n",
    "ON co.pizza_id = pn.pizza_id\n",
    "JOIN runner_orders as ro\n",
    "ON ro.order_id = co.order_id\n",
    "WHERE ro.cancellation = ''"
   ]
  },
  {
   "cell_type": "markdown",
   "id": "6754e965",
   "metadata": {},
   "source": [
    "#### Observations\n",
    "* Pizza Runner would have made 142 dollars so far if each extra that was added cost 1 dollar\n",
    "* In total, there were 4 extras added to pizzas which were were successfully delivered"
   ]
  },
  {
   "cell_type": "markdown",
   "id": "4fccbb2d",
   "metadata": {},
   "source": [
    "### 3. The Pizza Runner team now wants to add an additional ratings system that allows customers to rate their runner, how would you design an additional table for this new dataset - generate a schema for this new table and insert your own data for ratings for each successful customer order between 1 to 5."
   ]
  },
  {
   "cell_type": "code",
   "execution_count": 50,
   "id": "b1895ff5",
   "metadata": {},
   "outputs": [
    {
     "name": "stdout",
     "output_type": "stream",
     "text": [
      " * sqlite://\n",
      "Done.\n"
     ]
    },
    {
     "data": {
      "text/html": [
       "<table>\n",
       "    <thead>\n",
       "        <tr>\n",
       "            <th>order_id</th>\n",
       "            <th>runner_id</th>\n",
       "            <th>pickup_time</th>\n",
       "            <th>distance</th>\n",
       "            <th>duration</th>\n",
       "            <th>cancellation</th>\n",
       "        </tr>\n",
       "    </thead>\n",
       "    <tbody>\n",
       "        <tr>\n",
       "            <td>1</td>\n",
       "            <td>1</td>\n",
       "            <td>2020-01-01 18:15:34</td>\n",
       "            <td>20</td>\n",
       "            <td>32 </td>\n",
       "            <td></td>\n",
       "        </tr>\n",
       "        <tr>\n",
       "            <td>2</td>\n",
       "            <td>1</td>\n",
       "            <td>2020-01-01 19:10:54</td>\n",
       "            <td>20</td>\n",
       "            <td>27 </td>\n",
       "            <td></td>\n",
       "        </tr>\n",
       "        <tr>\n",
       "            <td>3</td>\n",
       "            <td>1</td>\n",
       "            <td>2020-01-03 00:12:37</td>\n",
       "            <td>13.4</td>\n",
       "            <td>20 </td>\n",
       "            <td></td>\n",
       "        </tr>\n",
       "        <tr>\n",
       "            <td>4</td>\n",
       "            <td>2</td>\n",
       "            <td>2020-01-04 13:53:03</td>\n",
       "            <td>23.4</td>\n",
       "            <td>40</td>\n",
       "            <td></td>\n",
       "        </tr>\n",
       "        <tr>\n",
       "            <td>5</td>\n",
       "            <td>3</td>\n",
       "            <td>2020-01-08 21:10:57</td>\n",
       "            <td>10</td>\n",
       "            <td>15</td>\n",
       "            <td></td>\n",
       "        </tr>\n",
       "        <tr>\n",
       "            <td>6</td>\n",
       "            <td>3</td>\n",
       "            <td>null</td>\n",
       "            <td>null</td>\n",
       "            <td>null</td>\n",
       "            <td>cancelled</td>\n",
       "        </tr>\n",
       "        <tr>\n",
       "            <td>7</td>\n",
       "            <td>2</td>\n",
       "            <td>2020-01-08 21:30:45</td>\n",
       "            <td>25</td>\n",
       "            <td>25</td>\n",
       "            <td></td>\n",
       "        </tr>\n",
       "        <tr>\n",
       "            <td>8</td>\n",
       "            <td>2</td>\n",
       "            <td>2020-01-10 00:15:02</td>\n",
       "            <td>23.4 </td>\n",
       "            <td>15 </td>\n",
       "            <td></td>\n",
       "        </tr>\n",
       "        <tr>\n",
       "            <td>9</td>\n",
       "            <td>2</td>\n",
       "            <td>null</td>\n",
       "            <td>null</td>\n",
       "            <td>null</td>\n",
       "            <td>cancelled</td>\n",
       "        </tr>\n",
       "        <tr>\n",
       "            <td>10</td>\n",
       "            <td>1</td>\n",
       "            <td>2020-01-11 18:50:20</td>\n",
       "            <td>10</td>\n",
       "            <td>10</td>\n",
       "            <td></td>\n",
       "        </tr>\n",
       "    </tbody>\n",
       "</table>"
      ],
      "text/plain": [
       "[(1, 1, '2020-01-01 18:15:34', '20', '32 ', ''),\n",
       " (2, 1, '2020-01-01 19:10:54', '20', '27 ', ''),\n",
       " (3, 1, '2020-01-03 00:12:37', '13.4', '20 ', ''),\n",
       " (4, 2, '2020-01-04 13:53:03', '23.4', '40', ''),\n",
       " (5, 3, '2020-01-08 21:10:57', '10', '15', ''),\n",
       " (6, 3, 'null', 'null', 'null', 'cancelled'),\n",
       " (7, 2, '2020-01-08 21:30:45', '25', '25', ''),\n",
       " (8, 2, '2020-01-10 00:15:02', '23.4 ', '15 ', ''),\n",
       " (9, 2, 'null', 'null', 'null', 'cancelled'),\n",
       " (10, 1, '2020-01-11 18:50:20', '10', '10', '')]"
      ]
     },
     "execution_count": 50,
     "metadata": {},
     "output_type": "execute_result"
    }
   ],
   "source": [
    "%%sql\n",
    "SELECT *\n",
    "FROM runner_orders"
   ]
  },
  {
   "cell_type": "code",
   "execution_count": 51,
   "id": "6ba4e701",
   "metadata": {},
   "outputs": [
    {
     "name": "stdout",
     "output_type": "stream",
     "text": [
      " * sqlite://\n",
      "Done.\n"
     ]
    },
    {
     "data": {
      "text/plain": [
       "[]"
      ]
     },
     "execution_count": 51,
     "metadata": {},
     "output_type": "execute_result"
    }
   ],
   "source": [
    "%%sql\n",
    "CREATE TABLE order_ratings (\n",
    "  \"order_id\" INTEGER,\n",
    "  \"rating\" INTEGER\n",
    ");"
   ]
  },
  {
   "cell_type": "code",
   "execution_count": 52,
   "id": "4de7c6e7",
   "metadata": {},
   "outputs": [
    {
     "name": "stdout",
     "output_type": "stream",
     "text": [
      " * sqlite://\n",
      "10 rows affected.\n"
     ]
    },
    {
     "data": {
      "text/plain": [
       "[]"
      ]
     },
     "execution_count": 52,
     "metadata": {},
     "output_type": "execute_result"
    }
   ],
   "source": [
    "%%sql\n",
    "INSERT INTO order_ratings (\"order_id\", \"rating\")\n",
    "VALUES\n",
    "  (1, 3),\n",
    "  (2, 4),\n",
    "  (3, 4),\n",
    "  (4, 2),\n",
    "  (5, 4),\n",
    "  (6, null),\n",
    "  (7, 4),\n",
    "  (8, 5),\n",
    "  (9, null),\n",
    "  (10, 5);"
   ]
  },
  {
   "cell_type": "code",
   "execution_count": 53,
   "id": "8eb8bde8",
   "metadata": {},
   "outputs": [
    {
     "name": "stdout",
     "output_type": "stream",
     "text": [
      " * sqlite://\n",
      "Done.\n"
     ]
    },
    {
     "data": {
      "text/html": [
       "<table>\n",
       "    <thead>\n",
       "        <tr>\n",
       "            <th>order_id</th>\n",
       "            <th>rating</th>\n",
       "        </tr>\n",
       "    </thead>\n",
       "    <tbody>\n",
       "        <tr>\n",
       "            <td>1</td>\n",
       "            <td>3</td>\n",
       "        </tr>\n",
       "        <tr>\n",
       "            <td>2</td>\n",
       "            <td>4</td>\n",
       "        </tr>\n",
       "        <tr>\n",
       "            <td>3</td>\n",
       "            <td>4</td>\n",
       "        </tr>\n",
       "        <tr>\n",
       "            <td>4</td>\n",
       "            <td>2</td>\n",
       "        </tr>\n",
       "        <tr>\n",
       "            <td>5</td>\n",
       "            <td>4</td>\n",
       "        </tr>\n",
       "        <tr>\n",
       "            <td>6</td>\n",
       "            <td>None</td>\n",
       "        </tr>\n",
       "        <tr>\n",
       "            <td>7</td>\n",
       "            <td>4</td>\n",
       "        </tr>\n",
       "        <tr>\n",
       "            <td>8</td>\n",
       "            <td>5</td>\n",
       "        </tr>\n",
       "        <tr>\n",
       "            <td>9</td>\n",
       "            <td>None</td>\n",
       "        </tr>\n",
       "        <tr>\n",
       "            <td>10</td>\n",
       "            <td>5</td>\n",
       "        </tr>\n",
       "    </tbody>\n",
       "</table>"
      ],
      "text/plain": [
       "[(1, 3),\n",
       " (2, 4),\n",
       " (3, 4),\n",
       " (4, 2),\n",
       " (5, 4),\n",
       " (6, None),\n",
       " (7, 4),\n",
       " (8, 5),\n",
       " (9, None),\n",
       " (10, 5)]"
      ]
     },
     "execution_count": 53,
     "metadata": {},
     "output_type": "execute_result"
    }
   ],
   "source": [
    "%%sql\n",
    "SELECT *\n",
    "FROM order_ratings"
   ]
  },
  {
   "cell_type": "code",
   "execution_count": 54,
   "id": "65ce87e5",
   "metadata": {},
   "outputs": [
    {
     "name": "stdout",
     "output_type": "stream",
     "text": [
      " * sqlite://\n",
      "Done.\n"
     ]
    },
    {
     "data": {
      "text/html": [
       "<table>\n",
       "    <thead>\n",
       "        <tr>\n",
       "            <th>order_id</th>\n",
       "            <th>runner_id</th>\n",
       "            <th>pickup_time</th>\n",
       "            <th>distance</th>\n",
       "            <th>duration</th>\n",
       "            <th>cancellation</th>\n",
       "            <th>order_id_1</th>\n",
       "            <th>rating</th>\n",
       "        </tr>\n",
       "    </thead>\n",
       "    <tbody>\n",
       "        <tr>\n",
       "            <td>1</td>\n",
       "            <td>1</td>\n",
       "            <td>2020-01-01 18:15:34</td>\n",
       "            <td>20</td>\n",
       "            <td>32 </td>\n",
       "            <td></td>\n",
       "            <td>1</td>\n",
       "            <td>3</td>\n",
       "        </tr>\n",
       "        <tr>\n",
       "            <td>2</td>\n",
       "            <td>1</td>\n",
       "            <td>2020-01-01 19:10:54</td>\n",
       "            <td>20</td>\n",
       "            <td>27 </td>\n",
       "            <td></td>\n",
       "            <td>2</td>\n",
       "            <td>4</td>\n",
       "        </tr>\n",
       "        <tr>\n",
       "            <td>3</td>\n",
       "            <td>1</td>\n",
       "            <td>2020-01-03 00:12:37</td>\n",
       "            <td>13.4</td>\n",
       "            <td>20 </td>\n",
       "            <td></td>\n",
       "            <td>3</td>\n",
       "            <td>4</td>\n",
       "        </tr>\n",
       "        <tr>\n",
       "            <td>10</td>\n",
       "            <td>1</td>\n",
       "            <td>2020-01-11 18:50:20</td>\n",
       "            <td>10</td>\n",
       "            <td>10</td>\n",
       "            <td></td>\n",
       "            <td>10</td>\n",
       "            <td>5</td>\n",
       "        </tr>\n",
       "        <tr>\n",
       "            <td>4</td>\n",
       "            <td>2</td>\n",
       "            <td>2020-01-04 13:53:03</td>\n",
       "            <td>23.4</td>\n",
       "            <td>40</td>\n",
       "            <td></td>\n",
       "            <td>4</td>\n",
       "            <td>2</td>\n",
       "        </tr>\n",
       "        <tr>\n",
       "            <td>7</td>\n",
       "            <td>2</td>\n",
       "            <td>2020-01-08 21:30:45</td>\n",
       "            <td>25</td>\n",
       "            <td>25</td>\n",
       "            <td></td>\n",
       "            <td>7</td>\n",
       "            <td>4</td>\n",
       "        </tr>\n",
       "        <tr>\n",
       "            <td>8</td>\n",
       "            <td>2</td>\n",
       "            <td>2020-01-10 00:15:02</td>\n",
       "            <td>23.4 </td>\n",
       "            <td>15 </td>\n",
       "            <td></td>\n",
       "            <td>8</td>\n",
       "            <td>5</td>\n",
       "        </tr>\n",
       "        <tr>\n",
       "            <td>5</td>\n",
       "            <td>3</td>\n",
       "            <td>2020-01-08 21:10:57</td>\n",
       "            <td>10</td>\n",
       "            <td>15</td>\n",
       "            <td></td>\n",
       "            <td>5</td>\n",
       "            <td>4</td>\n",
       "        </tr>\n",
       "    </tbody>\n",
       "</table>"
      ],
      "text/plain": [
       "[(1, 1, '2020-01-01 18:15:34', '20', '32 ', '', 1, 3),\n",
       " (2, 1, '2020-01-01 19:10:54', '20', '27 ', '', 2, 4),\n",
       " (3, 1, '2020-01-03 00:12:37', '13.4', '20 ', '', 3, 4),\n",
       " (10, 1, '2020-01-11 18:50:20', '10', '10', '', 10, 5),\n",
       " (4, 2, '2020-01-04 13:53:03', '23.4', '40', '', 4, 2),\n",
       " (7, 2, '2020-01-08 21:30:45', '25', '25', '', 7, 4),\n",
       " (8, 2, '2020-01-10 00:15:02', '23.4 ', '15 ', '', 8, 5),\n",
       " (5, 3, '2020-01-08 21:10:57', '10', '15', '', 5, 4)]"
      ]
     },
     "execution_count": 54,
     "metadata": {},
     "output_type": "execute_result"
    }
   ],
   "source": [
    "%%sql\n",
    "SELECT *\n",
    "FROM runner_orders as ro\n",
    "JOIN order_ratings\n",
    "ON ro.order_id = order_ratings.order_id\n",
    "WHERE cancellation = ''\n",
    "ORDER BY runner_id"
   ]
  },
  {
   "cell_type": "code",
   "execution_count": 55,
   "id": "51f5d287",
   "metadata": {},
   "outputs": [
    {
     "name": "stdout",
     "output_type": "stream",
     "text": [
      " * sqlite://\n",
      "Done.\n"
     ]
    },
    {
     "data": {
      "text/html": [
       "<table>\n",
       "    <thead>\n",
       "        <tr>\n",
       "            <th>runner_id</th>\n",
       "            <th>avg_rating</th>\n",
       "        </tr>\n",
       "    </thead>\n",
       "    <tbody>\n",
       "        <tr>\n",
       "            <td>1</td>\n",
       "            <td>4.0</td>\n",
       "        </tr>\n",
       "        <tr>\n",
       "            <td>2</td>\n",
       "            <td>3.67</td>\n",
       "        </tr>\n",
       "        <tr>\n",
       "            <td>3</td>\n",
       "            <td>4.0</td>\n",
       "        </tr>\n",
       "    </tbody>\n",
       "</table>"
      ],
      "text/plain": [
       "[(1, 4.0), (2, 3.67), (3, 4.0)]"
      ]
     },
     "execution_count": 55,
     "metadata": {},
     "output_type": "execute_result"
    }
   ],
   "source": [
    "%%sql\n",
    "SELECT \n",
    "    runner_id,\n",
    "    ROUND(AVG(rating), 2) as avg_rating\n",
    "FROM runner_orders as ro\n",
    "JOIN order_ratings\n",
    "ON ro.order_id = order_ratings.order_id\n",
    "WHERE cancellation = ''\n",
    "GROUP BY 1"
   ]
  },
  {
   "cell_type": "markdown",
   "id": "6c0d9efd",
   "metadata": {},
   "source": [
    "#### Observations\n",
    "* Runner 1 and 3 both had an average rating of 4.0\n",
    "* Runner 2 had an average rating of 3.67"
   ]
  },
  {
   "cell_type": "markdown",
   "id": "fb972a4b",
   "metadata": {},
   "source": [
    "### 4. Form a table which has the following information for successful deliveries."
   ]
  },
  {
   "cell_type": "markdown",
   "id": "9975818c",
   "metadata": {},
   "source": [
    "* customer_id\n",
    "* order_id\n",
    "* runner_id\n",
    "* rating\n",
    "* order_time\n",
    "* pickup_time"
   ]
  },
  {
   "cell_type": "code",
   "execution_count": 56,
   "id": "e375ddd8",
   "metadata": {},
   "outputs": [
    {
     "name": "stdout",
     "output_type": "stream",
     "text": [
      " * sqlite://\n",
      "Done.\n"
     ]
    },
    {
     "data": {
      "text/html": [
       "<table>\n",
       "    <thead>\n",
       "        <tr>\n",
       "            <th>customer_id</th>\n",
       "            <th>order_id</th>\n",
       "            <th>runner_id</th>\n",
       "            <th>rating</th>\n",
       "            <th>order_time</th>\n",
       "            <th>pickup_time</th>\n",
       "        </tr>\n",
       "    </thead>\n",
       "    <tbody>\n",
       "        <tr>\n",
       "            <td>101</td>\n",
       "            <td>1</td>\n",
       "            <td>1</td>\n",
       "            <td>3</td>\n",
       "            <td>2020-01-01 18:05:02</td>\n",
       "            <td>2020-01-01 18:15:34</td>\n",
       "        </tr>\n",
       "        <tr>\n",
       "            <td>101</td>\n",
       "            <td>2</td>\n",
       "            <td>1</td>\n",
       "            <td>4</td>\n",
       "            <td>2020-01-01 19:00:52</td>\n",
       "            <td>2020-01-01 19:10:54</td>\n",
       "        </tr>\n",
       "        <tr>\n",
       "            <td>102</td>\n",
       "            <td>3</td>\n",
       "            <td>1</td>\n",
       "            <td>4</td>\n",
       "            <td>2020-01-02 23:51:23</td>\n",
       "            <td>2020-01-03 00:12:37</td>\n",
       "        </tr>\n",
       "        <tr>\n",
       "            <td>102</td>\n",
       "            <td>3</td>\n",
       "            <td>1</td>\n",
       "            <td>4</td>\n",
       "            <td>2020-01-02 23:51:23</td>\n",
       "            <td>2020-01-03 00:12:37</td>\n",
       "        </tr>\n",
       "        <tr>\n",
       "            <td>104</td>\n",
       "            <td>10</td>\n",
       "            <td>1</td>\n",
       "            <td>5</td>\n",
       "            <td>2020-01-11 18:34:49</td>\n",
       "            <td>2020-01-11 18:50:20</td>\n",
       "        </tr>\n",
       "        <tr>\n",
       "            <td>104</td>\n",
       "            <td>10</td>\n",
       "            <td>1</td>\n",
       "            <td>5</td>\n",
       "            <td>2020-01-11 18:34:49</td>\n",
       "            <td>2020-01-11 18:50:20</td>\n",
       "        </tr>\n",
       "        <tr>\n",
       "            <td>103</td>\n",
       "            <td>4</td>\n",
       "            <td>2</td>\n",
       "            <td>2</td>\n",
       "            <td>2020-01-04 13:23:46</td>\n",
       "            <td>2020-01-04 13:53:03</td>\n",
       "        </tr>\n",
       "        <tr>\n",
       "            <td>103</td>\n",
       "            <td>4</td>\n",
       "            <td>2</td>\n",
       "            <td>2</td>\n",
       "            <td>2020-01-04 13:23:46</td>\n",
       "            <td>2020-01-04 13:53:03</td>\n",
       "        </tr>\n",
       "        <tr>\n",
       "            <td>103</td>\n",
       "            <td>4</td>\n",
       "            <td>2</td>\n",
       "            <td>2</td>\n",
       "            <td>2020-01-04 13:23:46</td>\n",
       "            <td>2020-01-04 13:53:03</td>\n",
       "        </tr>\n",
       "        <tr>\n",
       "            <td>105</td>\n",
       "            <td>7</td>\n",
       "            <td>2</td>\n",
       "            <td>4</td>\n",
       "            <td>2020-01-08 21:20:29</td>\n",
       "            <td>2020-01-08 21:30:45</td>\n",
       "        </tr>\n",
       "        <tr>\n",
       "            <td>102</td>\n",
       "            <td>8</td>\n",
       "            <td>2</td>\n",
       "            <td>5</td>\n",
       "            <td>2020-01-09 23:54:33</td>\n",
       "            <td>2020-01-10 00:15:02</td>\n",
       "        </tr>\n",
       "        <tr>\n",
       "            <td>104</td>\n",
       "            <td>5</td>\n",
       "            <td>3</td>\n",
       "            <td>4</td>\n",
       "            <td>2020-01-08 21:00:29</td>\n",
       "            <td>2020-01-08 21:10:57</td>\n",
       "        </tr>\n",
       "    </tbody>\n",
       "</table>"
      ],
      "text/plain": [
       "[(101, 1, 1, 3, '2020-01-01 18:05:02', '2020-01-01 18:15:34'),\n",
       " (101, 2, 1, 4, '2020-01-01 19:00:52', '2020-01-01 19:10:54'),\n",
       " (102, 3, 1, 4, '2020-01-02 23:51:23', '2020-01-03 00:12:37'),\n",
       " (102, 3, 1, 4, '2020-01-02 23:51:23', '2020-01-03 00:12:37'),\n",
       " (104, 10, 1, 5, '2020-01-11 18:34:49', '2020-01-11 18:50:20'),\n",
       " (104, 10, 1, 5, '2020-01-11 18:34:49', '2020-01-11 18:50:20'),\n",
       " (103, 4, 2, 2, '2020-01-04 13:23:46', '2020-01-04 13:53:03'),\n",
       " (103, 4, 2, 2, '2020-01-04 13:23:46', '2020-01-04 13:53:03'),\n",
       " (103, 4, 2, 2, '2020-01-04 13:23:46', '2020-01-04 13:53:03'),\n",
       " (105, 7, 2, 4, '2020-01-08 21:20:29', '2020-01-08 21:30:45'),\n",
       " (102, 8, 2, 5, '2020-01-09 23:54:33', '2020-01-10 00:15:02'),\n",
       " (104, 5, 3, 4, '2020-01-08 21:00:29', '2020-01-08 21:10:57')]"
      ]
     },
     "execution_count": 56,
     "metadata": {},
     "output_type": "execute_result"
    }
   ],
   "source": [
    "%%sql\n",
    "SELECT\n",
    "    co.customer_id,\n",
    "    co.order_id,\n",
    "    ro.runner_id,\n",
    "    order_ratings.rating,\n",
    "    co.order_time,\n",
    "    ro.pickup_time    \n",
    "FROM customer_orders as co\n",
    "JOIN runner_orders as ro\n",
    "ON co.order_id = ro.order_id\n",
    "JOIN order_ratings\n",
    "ON co.order_id = order_ratings.order_id\n",
    "WHERE ro.cancellation = ''\n",
    "ORDER BY ro.runner_id"
   ]
  },
  {
   "cell_type": "markdown",
   "id": "24708b1b",
   "metadata": {},
   "source": [
    "### 5. If a Meat Lovers pizza costs 12 dollars and Vegetarian costs 10 dollars and there is no cost for extras and each runner is paid $0.30 per kilometre traveled - how much money does Pizza Runner have left over after these deliveries?"
   ]
  },
  {
   "cell_type": "code",
   "execution_count": 61,
   "id": "12e25953",
   "metadata": {},
   "outputs": [
    {
     "name": "stdout",
     "output_type": "stream",
     "text": [
      " * sqlite://\n",
      "Done.\n"
     ]
    },
    {
     "data": {
      "text/html": [
       "<table>\n",
       "    <thead>\n",
       "        <tr>\n",
       "            <th>revenue_after_deliveries</th>\n",
       "        </tr>\n",
       "    </thead>\n",
       "    <tbody>\n",
       "        <tr>\n",
       "            <td>94.44</td>\n",
       "        </tr>\n",
       "    </tbody>\n",
       "</table>"
      ],
      "text/plain": [
       "[(94.44,)]"
      ]
     },
     "execution_count": 61,
     "metadata": {},
     "output_type": "execute_result"
    }
   ],
   "source": [
    "%%sql\n",
    "WITH total_revenue AS (\n",
    "SELECT\n",
    "    SUM(\n",
    "      CASE\n",
    "        WHEN pn.pizza_name = 'Meatlovers' THEN 12\n",
    "        WHEN pn.pizza_name = 'Vegetarian' THEN 10\n",
    "        ELSE 0\n",
    "      END\n",
    "    ) as total_revenue\n",
    "FROM customer_orders as co\n",
    "JOIN pizza_names as pn\n",
    "ON co.pizza_id = pn.pizza_id\n",
    "JOIN runner_orders as ro\n",
    "ON ro.order_id = co.order_id\n",
    "WHERE ro.cancellation = ''\n",
    "),\n",
    "\n",
    "amount_paid AS (\n",
    "SELECT\n",
    "    SUM(distance * 0.3) as amount_paid\n",
    "FROM runner_orders\n",
    "WHERE cancellation = ''\n",
    ")\n",
    "\n",
    "SELECT\n",
    "    (tr.total_revenue - ap.amount_paid) as revenue_after_deliveries\n",
    "FROM total_revenue as tr\n",
    "JOIN amount_paid as ap\n"
   ]
  },
  {
   "cell_type": "markdown",
   "id": "553f8746",
   "metadata": {},
   "source": [
    "#### Observations\n",
    "* Pizza Runner has 94.44 dollars after the deliveries were made."
   ]
  },
  {
   "cell_type": "code",
   "execution_count": null,
   "id": "2ec9c11e",
   "metadata": {},
   "outputs": [],
   "source": []
  },
  {
   "cell_type": "markdown",
   "id": "730297cf",
   "metadata": {},
   "source": [
    "### Conclusions"
   ]
  },
  {
   "cell_type": "markdown",
   "id": "0a7be981",
   "metadata": {},
   "source": [
    "* 14 total pizzas were ordered across 10 unique orders\n",
    "* 2 orders were cancelled (order 6 and order 9)\n",
    "* 12 total pizzas were successfully delivered across 8 unique orders\n",
    "* Across the 8 orders which were successfully delivered, 3 had multiple pizzas\n",
    "* Of the 12 pizzas that were deliverd, 9 were Meatlovers and only 3 were Vegetarian\n",
    "* Meatlovers outsold Vegetarian 3 to 1 even though Meatlovers was 2 dollars more expensive\n",
    "* The most common extra was bacon, while the most common exclusion was cheese\n",
    "* The fastest delivery took only 10 minutes while the slowest delivery took 40 minutes\n",
    "* Pizza Runner has made 138 dollars in revenue so far"
   ]
  }
 ],
 "metadata": {
  "kernelspec": {
   "display_name": "Python 3 (ipykernel)",
   "language": "python",
   "name": "python3"
  },
  "language_info": {
   "codemirror_mode": {
    "name": "ipython",
    "version": 3
   },
   "file_extension": ".py",
   "mimetype": "text/x-python",
   "name": "python",
   "nbconvert_exporter": "python",
   "pygments_lexer": "ipython3",
   "version": "3.9.7"
  }
 },
 "nbformat": 4,
 "nbformat_minor": 5
}
